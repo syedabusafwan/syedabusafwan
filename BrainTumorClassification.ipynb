{
  "nbformat": 4,
  "nbformat_minor": 0,
  "metadata": {
    "colab": {
      "provenance": [],
      "authorship_tag": "ABX9TyNWxtvo1wNHkPaWHHjMUwHW",
      "include_colab_link": true
    },
    "kernelspec": {
      "name": "python3",
      "display_name": "Python 3"
    },
    "language_info": {
      "name": "python"
    }
  },
  "cells": [
    {
      "cell_type": "markdown",
      "metadata": {
        "id": "view-in-github",
        "colab_type": "text"
      },
      "source": [
        "<a href=\"https://colab.research.google.com/github/syedabusafwan/syedabusafwan/blob/practice/BrainTumorClassification.ipynb\" target=\"_parent\"><img src=\"https://colab.research.google.com/assets/colab-badge.svg\" alt=\"Open In Colab\"/></a>"
      ]
    },
    {
      "cell_type": "markdown",
      "source": [
        "**Data Preparation**"
      ],
      "metadata": {
        "id": "oi_ih9GUNkPv"
      }
    },
    {
      "cell_type": "code",
      "execution_count": 1,
      "metadata": {
        "id": "tAUeK6UyMcFQ"
      },
      "outputs": [],
      "source": [
        "from ast import increment_lineno\n",
        "import pandas as pd\n",
        "import numpy as np\n",
        "import matplotlib.pyplot as plt\n",
        "import os, shutil\n",
        "import cv2\n",
        "import matplotlib.image as mpimg\n",
        "%matplotlib inline\n",
        "plt.style.use('ggplot')\n"
      ]
    },
    {
      "cell_type": "code",
      "source": [
        "!pip install -q kaggle\n"
      ],
      "metadata": {
        "id": "AQU8mJqRVouQ"
      },
      "execution_count": 2,
      "outputs": []
    },
    {
      "cell_type": "code",
      "source": [
        "!mkdir ~/.kaggle\n",
        "!cp kaggle.json ~/.kaggle/\n",
        "!chmod 600 ~/.kaggle/kaggle.json\n",
        "!kaggle datasets list\n",
        "\n",
        "\n",
        "\n"
      ],
      "metadata": {
        "colab": {
          "base_uri": "https://localhost:8080/"
        },
        "id": "VZxmfn6EWIXm",
        "outputId": "0f9e4197-2363-41e2-9263-3a4f0d19f0f5"
      },
      "execution_count": 3,
      "outputs": [
        {
          "output_type": "stream",
          "name": "stdout",
          "text": [
            "ref                                                                title                                                size  lastUpdated          downloadCount  voteCount  usabilityRating  \n",
            "-----------------------------------------------------------------  --------------------------------------------------  -----  -------------------  -------------  ---------  ---------------  \n",
            "lainguyn123/student-performance-factors                            Student Performance Factors                          94KB  2024-09-02 10:53:57          13882        287  1.0              \n",
            "owm4096/laptop-prices                                              Laptop Prices                                        25KB  2024-09-09 12:43:01           3778         70  1.0              \n",
            "nyagami/ea-sports-fc-25-database-ratings-and-stats                 EA SPORTS FC 25 DATABASE, RATINGS AND STATS           3MB  2024-09-14 18:15:55            896         22  1.0              \n",
            "abdelrahmanemad594/laptop-prices                                   Laptop Prices                                        19KB  2024-09-20 15:08:32            572         24  1.0              \n",
            "taweilo/mba-admission-dataset                                      MBA Admission dataset, Class 2025                    55KB  2024-09-18 07:57:38           1583         31  1.0              \n",
            "jenilhareshbhaighori/house-price-prediction                        House Price Prediction India                        634KB  2024-09-20 13:13:04            490         22  1.0              \n",
            "abdullah0a/wine-quality-red-white-analysis-dataset                 Wine Quality (Red + White) Analysis Dataset          98KB  2024-09-19 15:45:12            872         21  1.0              \n",
            "lorenzozoppelletto/financial-risk-for-loan-approval                Financial Risk for Loan Approval                      2MB  2024-09-07 18:39:43           1242         25  0.9411765        \n",
            "hanaksoy/customer-purchasing-behaviors                             Customer Purchasing Behaviors                         1KB  2024-09-01 22:18:07           5955         77  1.0              \n",
            "muhammadehsan02/global-football-results-18722024                   Global Football Results: (1872–2024)                  1MB  2024-09-04 10:00:52           1284         28  1.0              \n",
            "abdullah0a/retail-sales-data-with-seasonal-trends-and-marketing    Retail Sales Data with Seasonal Trends & Marketing  610KB  2024-09-18 16:15:46           3842         59  1.0              \n",
            "nguyentiennhan/stock-prices-of-the-10-largest-fast-food-companies  Top 10 Fast Food Giants: Stock Price Dataset(2024)    1MB  2024-09-20 02:46:46           1089         23  1.0              \n",
            "ironwolf404/who-covid-19-cases-dataset                             WHO COVID-19 cases - dataset                        578KB  2024-09-15 15:23:16           1093         28  1.0              \n",
            "waqi786/global-black-money-transactions-dataset                    🕵️‍♂️ Global Black Money Transactions Dataset 📊     298KB  2024-09-15 10:56:34           1371         23  1.0              \n",
            "haseebindata/student-performance-predictions                       Student Performance Predictions                       9KB  2024-08-17 06:57:57          14229        284  0.9411765        \n",
            "abdullah0a/student-dropout-analysis-and-prediction-dataset         Student Dropout Analysis and Prediction Dataset      11KB  2024-09-18 09:32:30           1445         28  1.0              \n",
            "samuelotiattakorah/lung-cancer-data                                Lung Cancer Data                                      2KB  2024-09-16 03:35:44           1257         31  1.0              \n",
            "hanaksoy/health-and-sleep-statistics                               Health and sleep statistics                           1KB  2024-09-09 16:08:44           2566         41  1.0              \n",
            "samps74/e-commerce-customer-behavior-dataset                       E-commerce Customer Behavior Dataset                  3KB  2024-08-28 09:56:01           2195         34  1.0              \n",
            "uom190346a/ai-powered-job-market-insights                          AI-Powered Job Market Insights                       10KB  2024-08-26 05:55:43           5711        104  1.0              \n"
          ]
        }
      ]
    },
    {
      "cell_type": "code",
      "source": [
        "!kaggle datasets download -d navoneel/brain-mri-images-for-brain-tumor-detection"
      ],
      "metadata": {
        "colab": {
          "base_uri": "https://localhost:8080/"
        },
        "id": "2WX6rQDMXN9V",
        "outputId": "34c76f70-be56-4721-ecb2-432b772932a7"
      },
      "execution_count": 4,
      "outputs": [
        {
          "output_type": "stream",
          "name": "stdout",
          "text": [
            "Dataset URL: https://www.kaggle.com/datasets/navoneel/brain-mri-images-for-brain-tumor-detection\n",
            "License(s): copyright-authors\n",
            "Downloading brain-mri-images-for-brain-tumor-detection.zip to /content\n",
            " 60% 9.00M/15.1M [00:00<00:00, 58.6MB/s]\n",
            "100% 15.1M/15.1M [00:00<00:00, 85.4MB/s]\n"
          ]
        }
      ]
    },
    {
      "cell_type": "code",
      "source": [
        "!mkdir train\n"
      ],
      "metadata": {
        "id": "h9Dk8UG4XcU0"
      },
      "execution_count": 5,
      "outputs": []
    },
    {
      "cell_type": "code",
      "source": [
        "!unzip '/content/brain-mri-images-for-brain-tumor-detection.zip' -d '/content/train'"
      ],
      "metadata": {
        "colab": {
          "base_uri": "https://localhost:8080/"
        },
        "id": "TWIDjJDSX3hm",
        "outputId": "2a30667c-7340-44da-845e-eadf26c24a64"
      },
      "execution_count": 6,
      "outputs": [
        {
          "output_type": "stream",
          "name": "stdout",
          "text": [
            "Archive:  /content/brain-mri-images-for-brain-tumor-detection.zip\n",
            "  inflating: /content/train/brain_tumor_dataset/no/1 no.jpeg  \n",
            "  inflating: /content/train/brain_tumor_dataset/no/10 no.jpg  \n",
            "  inflating: /content/train/brain_tumor_dataset/no/11 no.jpg  \n",
            "  inflating: /content/train/brain_tumor_dataset/no/12 no.jpg  \n",
            "  inflating: /content/train/brain_tumor_dataset/no/13 no.jpg  \n",
            "  inflating: /content/train/brain_tumor_dataset/no/14 no.jpg  \n",
            "  inflating: /content/train/brain_tumor_dataset/no/15 no.jpg  \n",
            "  inflating: /content/train/brain_tumor_dataset/no/17 no.jpg  \n",
            "  inflating: /content/train/brain_tumor_dataset/no/18 no.jpg  \n",
            "  inflating: /content/train/brain_tumor_dataset/no/19 no.jpg  \n",
            "  inflating: /content/train/brain_tumor_dataset/no/2 no.jpeg  \n",
            "  inflating: /content/train/brain_tumor_dataset/no/20 no.jpg  \n",
            "  inflating: /content/train/brain_tumor_dataset/no/21 no.jpg  \n",
            "  inflating: /content/train/brain_tumor_dataset/no/22 no.jpg  \n",
            "  inflating: /content/train/brain_tumor_dataset/no/23 no.jpg  \n",
            "  inflating: /content/train/brain_tumor_dataset/no/24 no.jpg  \n",
            "  inflating: /content/train/brain_tumor_dataset/no/25 no.jpg  \n",
            "  inflating: /content/train/brain_tumor_dataset/no/26 no.jpg  \n",
            "  inflating: /content/train/brain_tumor_dataset/no/27 no.jpg  \n",
            "  inflating: /content/train/brain_tumor_dataset/no/28 no.jpg  \n",
            "  inflating: /content/train/brain_tumor_dataset/no/29 no.jpg  \n",
            "  inflating: /content/train/brain_tumor_dataset/no/3 no.jpg  \n",
            "  inflating: /content/train/brain_tumor_dataset/no/30 no.jpg  \n",
            "  inflating: /content/train/brain_tumor_dataset/no/31 no.jpg  \n",
            "  inflating: /content/train/brain_tumor_dataset/no/32 no.jpg  \n",
            "  inflating: /content/train/brain_tumor_dataset/no/33 no.jpg  \n",
            "  inflating: /content/train/brain_tumor_dataset/no/34 no.jpg  \n",
            "  inflating: /content/train/brain_tumor_dataset/no/35 no.jpg  \n",
            "  inflating: /content/train/brain_tumor_dataset/no/36 no.jpg  \n",
            "  inflating: /content/train/brain_tumor_dataset/no/37 no.jpg  \n",
            "  inflating: /content/train/brain_tumor_dataset/no/38 no.jpg  \n",
            "  inflating: /content/train/brain_tumor_dataset/no/39 no.jpg  \n",
            "  inflating: /content/train/brain_tumor_dataset/no/4 no.jpg  \n",
            "  inflating: /content/train/brain_tumor_dataset/no/40 no.jpg  \n",
            "  inflating: /content/train/brain_tumor_dataset/no/41 no.jpg  \n",
            "  inflating: /content/train/brain_tumor_dataset/no/42 no.jpg  \n",
            "  inflating: /content/train/brain_tumor_dataset/no/43 no.jpg  \n",
            "  inflating: /content/train/brain_tumor_dataset/no/44no.jpg  \n",
            "  inflating: /content/train/brain_tumor_dataset/no/45 no.jpg  \n",
            "  inflating: /content/train/brain_tumor_dataset/no/46 no.jpg  \n",
            "  inflating: /content/train/brain_tumor_dataset/no/47 no.jpg  \n",
            "  inflating: /content/train/brain_tumor_dataset/no/48 no.jpeg  \n",
            "  inflating: /content/train/brain_tumor_dataset/no/49 no.jpg  \n",
            "  inflating: /content/train/brain_tumor_dataset/no/5 no.jpg  \n",
            "  inflating: /content/train/brain_tumor_dataset/no/50 no.jpg  \n",
            "  inflating: /content/train/brain_tumor_dataset/no/6 no.jpg  \n",
            "  inflating: /content/train/brain_tumor_dataset/no/7 no.jpg  \n",
            "  inflating: /content/train/brain_tumor_dataset/no/8 no.jpg  \n",
            "  inflating: /content/train/brain_tumor_dataset/no/9 no.jpg  \n",
            "  inflating: /content/train/brain_tumor_dataset/no/N1.JPG  \n",
            "  inflating: /content/train/brain_tumor_dataset/no/N11.jpg  \n",
            "  inflating: /content/train/brain_tumor_dataset/no/N15.jpg  \n",
            "  inflating: /content/train/brain_tumor_dataset/no/N16.jpg  \n",
            "  inflating: /content/train/brain_tumor_dataset/no/N17.jpg  \n",
            "  inflating: /content/train/brain_tumor_dataset/no/N19.JPG  \n",
            "  inflating: /content/train/brain_tumor_dataset/no/N2.JPG  \n",
            "  inflating: /content/train/brain_tumor_dataset/no/N20.JPG  \n",
            "  inflating: /content/train/brain_tumor_dataset/no/N21.jpg  \n",
            "  inflating: /content/train/brain_tumor_dataset/no/N22.JPG  \n",
            "  inflating: /content/train/brain_tumor_dataset/no/N26.JPG  \n",
            "  inflating: /content/train/brain_tumor_dataset/no/N3.jpg  \n",
            "  inflating: /content/train/brain_tumor_dataset/no/N5.jpg  \n",
            "  inflating: /content/train/brain_tumor_dataset/no/N6.jpg  \n",
            "  inflating: /content/train/brain_tumor_dataset/no/No11.jpg  \n",
            "  inflating: /content/train/brain_tumor_dataset/no/No12.jpg  \n",
            "  inflating: /content/train/brain_tumor_dataset/no/No13.jpg  \n",
            "  inflating: /content/train/brain_tumor_dataset/no/No14.jpg  \n",
            "  inflating: /content/train/brain_tumor_dataset/no/No15.jpg  \n",
            "  inflating: /content/train/brain_tumor_dataset/no/No16.jpg  \n",
            "  inflating: /content/train/brain_tumor_dataset/no/No17.jpg  \n",
            "  inflating: /content/train/brain_tumor_dataset/no/No18.jpg  \n",
            "  inflating: /content/train/brain_tumor_dataset/no/No19.jpg  \n",
            "  inflating: /content/train/brain_tumor_dataset/no/No20.jpg  \n",
            "  inflating: /content/train/brain_tumor_dataset/no/No21.jpg  \n",
            "  inflating: /content/train/brain_tumor_dataset/no/No22.jpg  \n",
            "  inflating: /content/train/brain_tumor_dataset/no/no 1.jpg  \n",
            "  inflating: /content/train/brain_tumor_dataset/no/no 10.jpg  \n",
            "  inflating: /content/train/brain_tumor_dataset/no/no 100.jpg  \n",
            "  inflating: /content/train/brain_tumor_dataset/no/no 2.jpg  \n",
            "  inflating: /content/train/brain_tumor_dataset/no/no 3.jpg  \n",
            "  inflating: /content/train/brain_tumor_dataset/no/no 4.jpg  \n",
            "  inflating: /content/train/brain_tumor_dataset/no/no 5.jpeg  \n",
            "  inflating: /content/train/brain_tumor_dataset/no/no 6.jpg  \n",
            "  inflating: /content/train/brain_tumor_dataset/no/no 7.jpeg  \n",
            "  inflating: /content/train/brain_tumor_dataset/no/no 8.jpg  \n",
            "  inflating: /content/train/brain_tumor_dataset/no/no 89.jpg  \n",
            "  inflating: /content/train/brain_tumor_dataset/no/no 9.png  \n",
            "  inflating: /content/train/brain_tumor_dataset/no/no 90.jpg  \n",
            "  inflating: /content/train/brain_tumor_dataset/no/no 91.jpeg  \n",
            "  inflating: /content/train/brain_tumor_dataset/no/no 92.jpg  \n",
            "  inflating: /content/train/brain_tumor_dataset/no/no 923.jpg  \n",
            "  inflating: /content/train/brain_tumor_dataset/no/no 94.jpg  \n",
            "  inflating: /content/train/brain_tumor_dataset/no/no 95.jpg  \n",
            "  inflating: /content/train/brain_tumor_dataset/no/no 96.jpg  \n",
            "  inflating: /content/train/brain_tumor_dataset/no/no 97.jpg  \n",
            "  inflating: /content/train/brain_tumor_dataset/no/no 98.jpg  \n",
            "  inflating: /content/train/brain_tumor_dataset/no/no 99.jpg  \n",
            "  inflating: /content/train/brain_tumor_dataset/no/no.jpg  \n",
            "  inflating: /content/train/brain_tumor_dataset/yes/Y1.jpg  \n",
            "  inflating: /content/train/brain_tumor_dataset/yes/Y10.jpg  \n",
            "  inflating: /content/train/brain_tumor_dataset/yes/Y100.JPG  \n",
            "  inflating: /content/train/brain_tumor_dataset/yes/Y101.jpg  \n",
            "  inflating: /content/train/brain_tumor_dataset/yes/Y102.jpg  \n",
            "  inflating: /content/train/brain_tumor_dataset/yes/Y103.jpg  \n",
            "  inflating: /content/train/brain_tumor_dataset/yes/Y104.jpg  \n",
            "  inflating: /content/train/brain_tumor_dataset/yes/Y105.jpg  \n",
            "  inflating: /content/train/brain_tumor_dataset/yes/Y106.jpg  \n",
            "  inflating: /content/train/brain_tumor_dataset/yes/Y107.jpg  \n",
            "  inflating: /content/train/brain_tumor_dataset/yes/Y108.jpg  \n",
            "  inflating: /content/train/brain_tumor_dataset/yes/Y109.JPG  \n",
            "  inflating: /content/train/brain_tumor_dataset/yes/Y11.jpg  \n",
            "  inflating: /content/train/brain_tumor_dataset/yes/Y111.JPG  \n",
            "  inflating: /content/train/brain_tumor_dataset/yes/Y112.JPG  \n",
            "  inflating: /content/train/brain_tumor_dataset/yes/Y113.JPG  \n",
            "  inflating: /content/train/brain_tumor_dataset/yes/Y114.JPG  \n",
            "  inflating: /content/train/brain_tumor_dataset/yes/Y115.JPG  \n",
            "  inflating: /content/train/brain_tumor_dataset/yes/Y116.JPG  \n",
            "  inflating: /content/train/brain_tumor_dataset/yes/Y117.JPG  \n",
            "  inflating: /content/train/brain_tumor_dataset/yes/Y12.jpg  \n",
            "  inflating: /content/train/brain_tumor_dataset/yes/Y120.JPG  \n",
            "  inflating: /content/train/brain_tumor_dataset/yes/Y13.jpg  \n",
            "  inflating: /content/train/brain_tumor_dataset/yes/Y14.jpg  \n",
            "  inflating: /content/train/brain_tumor_dataset/yes/Y146.JPG  \n",
            "  inflating: /content/train/brain_tumor_dataset/yes/Y147.JPG  \n",
            "  inflating: /content/train/brain_tumor_dataset/yes/Y148.JPG  \n",
            "  inflating: /content/train/brain_tumor_dataset/yes/Y15.jpg  \n",
            "  inflating: /content/train/brain_tumor_dataset/yes/Y153.jpg  \n",
            "  inflating: /content/train/brain_tumor_dataset/yes/Y154.jpg  \n",
            "  inflating: /content/train/brain_tumor_dataset/yes/Y155.JPG  \n",
            "  inflating: /content/train/brain_tumor_dataset/yes/Y156.JPG  \n",
            "  inflating: /content/train/brain_tumor_dataset/yes/Y157.JPG  \n",
            "  inflating: /content/train/brain_tumor_dataset/yes/Y158.JPG  \n",
            "  inflating: /content/train/brain_tumor_dataset/yes/Y159.JPG  \n",
            "  inflating: /content/train/brain_tumor_dataset/yes/Y16.JPG  \n",
            "  inflating: /content/train/brain_tumor_dataset/yes/Y160.JPG  \n",
            "  inflating: /content/train/brain_tumor_dataset/yes/Y161.JPG  \n",
            "  inflating: /content/train/brain_tumor_dataset/yes/Y162.jpg  \n",
            "  inflating: /content/train/brain_tumor_dataset/yes/Y163.JPG  \n",
            "  inflating: /content/train/brain_tumor_dataset/yes/Y164.JPG  \n",
            "  inflating: /content/train/brain_tumor_dataset/yes/Y165.JPG  \n",
            "  inflating: /content/train/brain_tumor_dataset/yes/Y166.JPG  \n",
            "  inflating: /content/train/brain_tumor_dataset/yes/Y167.JPG  \n",
            "  inflating: /content/train/brain_tumor_dataset/yes/Y168.jpg  \n",
            "  inflating: /content/train/brain_tumor_dataset/yes/Y169.jpg  \n",
            "  inflating: /content/train/brain_tumor_dataset/yes/Y17.jpg  \n",
            "  inflating: /content/train/brain_tumor_dataset/yes/Y170.JPG  \n",
            "  inflating: /content/train/brain_tumor_dataset/yes/Y18.JPG  \n",
            "  inflating: /content/train/brain_tumor_dataset/yes/Y180.jpg  \n",
            "  inflating: /content/train/brain_tumor_dataset/yes/Y181.jpg  \n",
            "  inflating: /content/train/brain_tumor_dataset/yes/Y182.JPG  \n",
            "  inflating: /content/train/brain_tumor_dataset/yes/Y183.jpg  \n",
            "  inflating: /content/train/brain_tumor_dataset/yes/Y184.JPG  \n",
            "  inflating: /content/train/brain_tumor_dataset/yes/Y185.jpg  \n",
            "  inflating: /content/train/brain_tumor_dataset/yes/Y186.jpg  \n",
            "  inflating: /content/train/brain_tumor_dataset/yes/Y187.jpg  \n",
            "  inflating: /content/train/brain_tumor_dataset/yes/Y188.jpg  \n",
            "  inflating: /content/train/brain_tumor_dataset/yes/Y19.JPG  \n",
            "  inflating: /content/train/brain_tumor_dataset/yes/Y192.JPG  \n",
            "  inflating: /content/train/brain_tumor_dataset/yes/Y193.JPG  \n",
            "  inflating: /content/train/brain_tumor_dataset/yes/Y194.jpg  \n",
            "  inflating: /content/train/brain_tumor_dataset/yes/Y195.JPG  \n",
            "  inflating: /content/train/brain_tumor_dataset/yes/Y2.jpg  \n",
            "  inflating: /content/train/brain_tumor_dataset/yes/Y20.jpg  \n",
            "  inflating: /content/train/brain_tumor_dataset/yes/Y21.jpg  \n",
            "  inflating: /content/train/brain_tumor_dataset/yes/Y22.jpg  \n",
            "  inflating: /content/train/brain_tumor_dataset/yes/Y23.JPG  \n",
            "  inflating: /content/train/brain_tumor_dataset/yes/Y24.jpg  \n",
            "  inflating: /content/train/brain_tumor_dataset/yes/Y242.JPG  \n",
            "  inflating: /content/train/brain_tumor_dataset/yes/Y243.JPG  \n",
            "  inflating: /content/train/brain_tumor_dataset/yes/Y244.JPG  \n",
            "  inflating: /content/train/brain_tumor_dataset/yes/Y245.jpg  \n",
            "  inflating: /content/train/brain_tumor_dataset/yes/Y246.JPG  \n",
            "  inflating: /content/train/brain_tumor_dataset/yes/Y247.JPG  \n",
            "  inflating: /content/train/brain_tumor_dataset/yes/Y248.JPG  \n",
            "  inflating: /content/train/brain_tumor_dataset/yes/Y249.JPG  \n",
            "  inflating: /content/train/brain_tumor_dataset/yes/Y25.jpg  \n",
            "  inflating: /content/train/brain_tumor_dataset/yes/Y250.jpg  \n",
            "  inflating: /content/train/brain_tumor_dataset/yes/Y251.JPG  \n",
            "  inflating: /content/train/brain_tumor_dataset/yes/Y252.jpg  \n",
            "  inflating: /content/train/brain_tumor_dataset/yes/Y253.JPG  \n",
            "  inflating: /content/train/brain_tumor_dataset/yes/Y254.jpg  \n",
            "  inflating: /content/train/brain_tumor_dataset/yes/Y255.JPG  \n",
            "  inflating: /content/train/brain_tumor_dataset/yes/Y256.JPG  \n",
            "  inflating: /content/train/brain_tumor_dataset/yes/Y257.jpg  \n",
            "  inflating: /content/train/brain_tumor_dataset/yes/Y258.JPG  \n",
            "  inflating: /content/train/brain_tumor_dataset/yes/Y259.JPG  \n",
            "  inflating: /content/train/brain_tumor_dataset/yes/Y26.jpg  \n",
            "  inflating: /content/train/brain_tumor_dataset/yes/Y27.jpg  \n",
            "  inflating: /content/train/brain_tumor_dataset/yes/Y28.jpg  \n",
            "  inflating: /content/train/brain_tumor_dataset/yes/Y29.jpg  \n",
            "  inflating: /content/train/brain_tumor_dataset/yes/Y3.jpg  \n",
            "  inflating: /content/train/brain_tumor_dataset/yes/Y30.jpg  \n",
            "  inflating: /content/train/brain_tumor_dataset/yes/Y31.jpg  \n",
            "  inflating: /content/train/brain_tumor_dataset/yes/Y32.jpg  \n",
            "  inflating: /content/train/brain_tumor_dataset/yes/Y33.jpg  \n",
            "  inflating: /content/train/brain_tumor_dataset/yes/Y34.jpg  \n",
            "  inflating: /content/train/brain_tumor_dataset/yes/Y35.jpg  \n",
            "  inflating: /content/train/brain_tumor_dataset/yes/Y36.JPG  \n",
            "  inflating: /content/train/brain_tumor_dataset/yes/Y37.jpg  \n",
            "  inflating: /content/train/brain_tumor_dataset/yes/Y38.jpg  \n",
            "  inflating: /content/train/brain_tumor_dataset/yes/Y39.jpg  \n",
            "  inflating: /content/train/brain_tumor_dataset/yes/Y4.jpg  \n",
            "  inflating: /content/train/brain_tumor_dataset/yes/Y40.JPG  \n",
            "  inflating: /content/train/brain_tumor_dataset/yes/Y41.jpg  \n",
            "  inflating: /content/train/brain_tumor_dataset/yes/Y42.jpg  \n",
            "  inflating: /content/train/brain_tumor_dataset/yes/Y44.JPG  \n",
            "  inflating: /content/train/brain_tumor_dataset/yes/Y45.JPG  \n",
            "  inflating: /content/train/brain_tumor_dataset/yes/Y46.jpg  \n",
            "  inflating: /content/train/brain_tumor_dataset/yes/Y47.JPG  \n",
            "  inflating: /content/train/brain_tumor_dataset/yes/Y49.JPG  \n",
            "  inflating: /content/train/brain_tumor_dataset/yes/Y50.JPG  \n",
            "  inflating: /content/train/brain_tumor_dataset/yes/Y51.jpg  \n",
            "  inflating: /content/train/brain_tumor_dataset/yes/Y52.jpg  \n",
            "  inflating: /content/train/brain_tumor_dataset/yes/Y53.jpg  \n",
            "  inflating: /content/train/brain_tumor_dataset/yes/Y54.jpg  \n",
            "  inflating: /content/train/brain_tumor_dataset/yes/Y55.jpg  \n",
            "  inflating: /content/train/brain_tumor_dataset/yes/Y56.jpg  \n",
            "  inflating: /content/train/brain_tumor_dataset/yes/Y58.JPG  \n",
            "  inflating: /content/train/brain_tumor_dataset/yes/Y59.JPG  \n",
            "  inflating: /content/train/brain_tumor_dataset/yes/Y6.jpg  \n",
            "  inflating: /content/train/brain_tumor_dataset/yes/Y60.jpg  \n",
            "  inflating: /content/train/brain_tumor_dataset/yes/Y61.jpg  \n",
            "  inflating: /content/train/brain_tumor_dataset/yes/Y62.jpg  \n",
            "  inflating: /content/train/brain_tumor_dataset/yes/Y65.JPG  \n",
            "  inflating: /content/train/brain_tumor_dataset/yes/Y66.JPG  \n",
            "  inflating: /content/train/brain_tumor_dataset/yes/Y67.JPG  \n",
            "  inflating: /content/train/brain_tumor_dataset/yes/Y69.jpg  \n",
            "  inflating: /content/train/brain_tumor_dataset/yes/Y7.jpg  \n",
            "  inflating: /content/train/brain_tumor_dataset/yes/Y70.jpg  \n",
            "  inflating: /content/train/brain_tumor_dataset/yes/Y71.JPG  \n",
            "  inflating: /content/train/brain_tumor_dataset/yes/Y73.jpg  \n",
            "  inflating: /content/train/brain_tumor_dataset/yes/Y74.jpg  \n",
            "  inflating: /content/train/brain_tumor_dataset/yes/Y75.JPG  \n",
            "  inflating: /content/train/brain_tumor_dataset/yes/Y76.jpg  \n",
            "  inflating: /content/train/brain_tumor_dataset/yes/Y77.jpg  \n",
            "  inflating: /content/train/brain_tumor_dataset/yes/Y78.jpg  \n",
            "  inflating: /content/train/brain_tumor_dataset/yes/Y79.jpg  \n",
            "  inflating: /content/train/brain_tumor_dataset/yes/Y8.jpg  \n",
            "  inflating: /content/train/brain_tumor_dataset/yes/Y81.jpg  \n",
            "  inflating: /content/train/brain_tumor_dataset/yes/Y82.jpg  \n",
            "  inflating: /content/train/brain_tumor_dataset/yes/Y85.JPG  \n",
            "  inflating: /content/train/brain_tumor_dataset/yes/Y86.JPG  \n",
            "  inflating: /content/train/brain_tumor_dataset/yes/Y89.JPG  \n",
            "  inflating: /content/train/brain_tumor_dataset/yes/Y9.jpg  \n",
            "  inflating: /content/train/brain_tumor_dataset/yes/Y90.jpg  \n",
            "  inflating: /content/train/brain_tumor_dataset/yes/Y91.jpg  \n",
            "  inflating: /content/train/brain_tumor_dataset/yes/Y92.jpg  \n",
            "  inflating: /content/train/brain_tumor_dataset/yes/Y92.png  \n",
            "  inflating: /content/train/brain_tumor_dataset/yes/Y95.jpg  \n",
            "  inflating: /content/train/brain_tumor_dataset/yes/Y96.jpg  \n",
            "  inflating: /content/train/brain_tumor_dataset/yes/Y97.JPG  \n",
            "  inflating: /content/train/brain_tumor_dataset/yes/Y98.JPG  \n",
            "  inflating: /content/train/brain_tumor_dataset/yes/Y99.JPG  \n",
            "  inflating: /content/train/no/1 no.jpeg  \n",
            "  inflating: /content/train/no/10 no.jpg  \n",
            "  inflating: /content/train/no/11 no.jpg  \n",
            "  inflating: /content/train/no/12 no.jpg  \n",
            "  inflating: /content/train/no/13 no.jpg  \n",
            "  inflating: /content/train/no/14 no.jpg  \n",
            "  inflating: /content/train/no/15 no.jpg  \n",
            "  inflating: /content/train/no/17 no.jpg  \n",
            "  inflating: /content/train/no/18 no.jpg  \n",
            "  inflating: /content/train/no/19 no.jpg  \n",
            "  inflating: /content/train/no/2 no.jpeg  \n",
            "  inflating: /content/train/no/20 no.jpg  \n",
            "  inflating: /content/train/no/21 no.jpg  \n",
            "  inflating: /content/train/no/22 no.jpg  \n",
            "  inflating: /content/train/no/23 no.jpg  \n",
            "  inflating: /content/train/no/24 no.jpg  \n",
            "  inflating: /content/train/no/25 no.jpg  \n",
            "  inflating: /content/train/no/26 no.jpg  \n",
            "  inflating: /content/train/no/27 no.jpg  \n",
            "  inflating: /content/train/no/28 no.jpg  \n",
            "  inflating: /content/train/no/29 no.jpg  \n",
            "  inflating: /content/train/no/3 no.jpg  \n",
            "  inflating: /content/train/no/30 no.jpg  \n",
            "  inflating: /content/train/no/31 no.jpg  \n",
            "  inflating: /content/train/no/32 no.jpg  \n",
            "  inflating: /content/train/no/33 no.jpg  \n",
            "  inflating: /content/train/no/34 no.jpg  \n",
            "  inflating: /content/train/no/35 no.jpg  \n",
            "  inflating: /content/train/no/36 no.jpg  \n",
            "  inflating: /content/train/no/37 no.jpg  \n",
            "  inflating: /content/train/no/38 no.jpg  \n",
            "  inflating: /content/train/no/39 no.jpg  \n",
            "  inflating: /content/train/no/4 no.jpg  \n",
            "  inflating: /content/train/no/40 no.jpg  \n",
            "  inflating: /content/train/no/41 no.jpg  \n",
            "  inflating: /content/train/no/42 no.jpg  \n",
            "  inflating: /content/train/no/43 no.jpg  \n",
            "  inflating: /content/train/no/44no.jpg  \n",
            "  inflating: /content/train/no/45 no.jpg  \n",
            "  inflating: /content/train/no/46 no.jpg  \n",
            "  inflating: /content/train/no/47 no.jpg  \n",
            "  inflating: /content/train/no/48 no.jpeg  \n",
            "  inflating: /content/train/no/49 no.jpg  \n",
            "  inflating: /content/train/no/5 no.jpg  \n",
            "  inflating: /content/train/no/50 no.jpg  \n",
            "  inflating: /content/train/no/6 no.jpg  \n",
            "  inflating: /content/train/no/7 no.jpg  \n",
            "  inflating: /content/train/no/8 no.jpg  \n",
            "  inflating: /content/train/no/9 no.jpg  \n",
            "  inflating: /content/train/no/N1.JPG  \n",
            "  inflating: /content/train/no/N11.jpg  \n",
            "  inflating: /content/train/no/N15.jpg  \n",
            "  inflating: /content/train/no/N16.jpg  \n",
            "  inflating: /content/train/no/N17.jpg  \n",
            "  inflating: /content/train/no/N19.JPG  \n",
            "  inflating: /content/train/no/N2.JPG  \n",
            "  inflating: /content/train/no/N20.JPG  \n",
            "  inflating: /content/train/no/N21.jpg  \n",
            "  inflating: /content/train/no/N22.JPG  \n",
            "  inflating: /content/train/no/N26.JPG  \n",
            "  inflating: /content/train/no/N3.jpg  \n",
            "  inflating: /content/train/no/N5.jpg  \n",
            "  inflating: /content/train/no/N6.jpg  \n",
            "  inflating: /content/train/no/No11.jpg  \n",
            "  inflating: /content/train/no/No12.jpg  \n",
            "  inflating: /content/train/no/No13.jpg  \n",
            "  inflating: /content/train/no/No14.jpg  \n",
            "  inflating: /content/train/no/No15.jpg  \n",
            "  inflating: /content/train/no/No16.jpg  \n",
            "  inflating: /content/train/no/No17.jpg  \n",
            "  inflating: /content/train/no/No18.jpg  \n",
            "  inflating: /content/train/no/No19.jpg  \n",
            "  inflating: /content/train/no/No20.jpg  \n",
            "  inflating: /content/train/no/No21.jpg  \n",
            "  inflating: /content/train/no/No22.jpg  \n",
            "  inflating: /content/train/no/no 1.jpg  \n",
            "  inflating: /content/train/no/no 10.jpg  \n",
            "  inflating: /content/train/no/no 100.jpg  \n",
            "  inflating: /content/train/no/no 2.jpg  \n",
            "  inflating: /content/train/no/no 3.jpg  \n",
            "  inflating: /content/train/no/no 4.jpg  \n",
            "  inflating: /content/train/no/no 5.jpeg  \n",
            "  inflating: /content/train/no/no 6.jpg  \n",
            "  inflating: /content/train/no/no 7.jpeg  \n",
            "  inflating: /content/train/no/no 8.jpg  \n",
            "  inflating: /content/train/no/no 89.jpg  \n",
            "  inflating: /content/train/no/no 9.png  \n",
            "  inflating: /content/train/no/no 90.jpg  \n",
            "  inflating: /content/train/no/no 91.jpeg  \n",
            "  inflating: /content/train/no/no 92.jpg  \n",
            "  inflating: /content/train/no/no 923.jpg  \n",
            "  inflating: /content/train/no/no 94.jpg  \n",
            "  inflating: /content/train/no/no 95.jpg  \n",
            "  inflating: /content/train/no/no 96.jpg  \n",
            "  inflating: /content/train/no/no 97.jpg  \n",
            "  inflating: /content/train/no/no 98.jpg  \n",
            "  inflating: /content/train/no/no 99.jpg  \n",
            "  inflating: /content/train/no/no.jpg  \n",
            "  inflating: /content/train/yes/Y1.jpg  \n",
            "  inflating: /content/train/yes/Y10.jpg  \n",
            "  inflating: /content/train/yes/Y100.JPG  \n",
            "  inflating: /content/train/yes/Y101.jpg  \n",
            "  inflating: /content/train/yes/Y102.jpg  \n",
            "  inflating: /content/train/yes/Y103.jpg  \n",
            "  inflating: /content/train/yes/Y104.jpg  \n",
            "  inflating: /content/train/yes/Y105.jpg  \n",
            "  inflating: /content/train/yes/Y106.jpg  \n",
            "  inflating: /content/train/yes/Y107.jpg  \n",
            "  inflating: /content/train/yes/Y108.jpg  \n",
            "  inflating: /content/train/yes/Y109.JPG  \n",
            "  inflating: /content/train/yes/Y11.jpg  \n",
            "  inflating: /content/train/yes/Y111.JPG  \n",
            "  inflating: /content/train/yes/Y112.JPG  \n",
            "  inflating: /content/train/yes/Y113.JPG  \n",
            "  inflating: /content/train/yes/Y114.JPG  \n",
            "  inflating: /content/train/yes/Y115.JPG  \n",
            "  inflating: /content/train/yes/Y116.JPG  \n",
            "  inflating: /content/train/yes/Y117.JPG  \n",
            "  inflating: /content/train/yes/Y12.jpg  \n",
            "  inflating: /content/train/yes/Y120.JPG  \n",
            "  inflating: /content/train/yes/Y13.jpg  \n",
            "  inflating: /content/train/yes/Y14.jpg  \n",
            "  inflating: /content/train/yes/Y146.JPG  \n",
            "  inflating: /content/train/yes/Y147.JPG  \n",
            "  inflating: /content/train/yes/Y148.JPG  \n",
            "  inflating: /content/train/yes/Y15.jpg  \n",
            "  inflating: /content/train/yes/Y153.jpg  \n",
            "  inflating: /content/train/yes/Y154.jpg  \n",
            "  inflating: /content/train/yes/Y155.JPG  \n",
            "  inflating: /content/train/yes/Y156.JPG  \n",
            "  inflating: /content/train/yes/Y157.JPG  \n",
            "  inflating: /content/train/yes/Y158.JPG  \n",
            "  inflating: /content/train/yes/Y159.JPG  \n",
            "  inflating: /content/train/yes/Y16.JPG  \n",
            "  inflating: /content/train/yes/Y160.JPG  \n",
            "  inflating: /content/train/yes/Y161.JPG  \n",
            "  inflating: /content/train/yes/Y162.jpg  \n",
            "  inflating: /content/train/yes/Y163.JPG  \n",
            "  inflating: /content/train/yes/Y164.JPG  \n",
            "  inflating: /content/train/yes/Y165.JPG  \n",
            "  inflating: /content/train/yes/Y166.JPG  \n",
            "  inflating: /content/train/yes/Y167.JPG  \n",
            "  inflating: /content/train/yes/Y168.jpg  \n",
            "  inflating: /content/train/yes/Y169.jpg  \n",
            "  inflating: /content/train/yes/Y17.jpg  \n",
            "  inflating: /content/train/yes/Y170.JPG  \n",
            "  inflating: /content/train/yes/Y18.JPG  \n",
            "  inflating: /content/train/yes/Y180.jpg  \n",
            "  inflating: /content/train/yes/Y181.jpg  \n",
            "  inflating: /content/train/yes/Y182.JPG  \n",
            "  inflating: /content/train/yes/Y183.jpg  \n",
            "  inflating: /content/train/yes/Y184.JPG  \n",
            "  inflating: /content/train/yes/Y185.jpg  \n",
            "  inflating: /content/train/yes/Y186.jpg  \n",
            "  inflating: /content/train/yes/Y187.jpg  \n",
            "  inflating: /content/train/yes/Y188.jpg  \n",
            "  inflating: /content/train/yes/Y19.JPG  \n",
            "  inflating: /content/train/yes/Y192.JPG  \n",
            "  inflating: /content/train/yes/Y193.JPG  \n",
            "  inflating: /content/train/yes/Y194.jpg  \n",
            "  inflating: /content/train/yes/Y195.JPG  \n",
            "  inflating: /content/train/yes/Y2.jpg  \n",
            "  inflating: /content/train/yes/Y20.jpg  \n",
            "  inflating: /content/train/yes/Y21.jpg  \n",
            "  inflating: /content/train/yes/Y22.jpg  \n",
            "  inflating: /content/train/yes/Y23.JPG  \n",
            "  inflating: /content/train/yes/Y24.jpg  \n",
            "  inflating: /content/train/yes/Y242.JPG  \n",
            "  inflating: /content/train/yes/Y243.JPG  \n",
            "  inflating: /content/train/yes/Y244.JPG  \n",
            "  inflating: /content/train/yes/Y245.jpg  \n",
            "  inflating: /content/train/yes/Y246.JPG  \n",
            "  inflating: /content/train/yes/Y247.JPG  \n",
            "  inflating: /content/train/yes/Y248.JPG  \n",
            "  inflating: /content/train/yes/Y249.JPG  \n",
            "  inflating: /content/train/yes/Y25.jpg  \n",
            "  inflating: /content/train/yes/Y250.jpg  \n",
            "  inflating: /content/train/yes/Y251.JPG  \n",
            "  inflating: /content/train/yes/Y252.jpg  \n",
            "  inflating: /content/train/yes/Y253.JPG  \n",
            "  inflating: /content/train/yes/Y254.jpg  \n",
            "  inflating: /content/train/yes/Y255.JPG  \n",
            "  inflating: /content/train/yes/Y256.JPG  \n",
            "  inflating: /content/train/yes/Y257.jpg  \n",
            "  inflating: /content/train/yes/Y258.JPG  \n",
            "  inflating: /content/train/yes/Y259.JPG  \n",
            "  inflating: /content/train/yes/Y26.jpg  \n",
            "  inflating: /content/train/yes/Y27.jpg  \n",
            "  inflating: /content/train/yes/Y28.jpg  \n",
            "  inflating: /content/train/yes/Y29.jpg  \n",
            "  inflating: /content/train/yes/Y3.jpg  \n",
            "  inflating: /content/train/yes/Y30.jpg  \n",
            "  inflating: /content/train/yes/Y31.jpg  \n",
            "  inflating: /content/train/yes/Y32.jpg  \n",
            "  inflating: /content/train/yes/Y33.jpg  \n",
            "  inflating: /content/train/yes/Y34.jpg  \n",
            "  inflating: /content/train/yes/Y35.jpg  \n",
            "  inflating: /content/train/yes/Y36.JPG  \n",
            "  inflating: /content/train/yes/Y37.jpg  \n",
            "  inflating: /content/train/yes/Y38.jpg  \n",
            "  inflating: /content/train/yes/Y39.jpg  \n",
            "  inflating: /content/train/yes/Y4.jpg  \n",
            "  inflating: /content/train/yes/Y40.JPG  \n",
            "  inflating: /content/train/yes/Y41.jpg  \n",
            "  inflating: /content/train/yes/Y42.jpg  \n",
            "  inflating: /content/train/yes/Y44.JPG  \n",
            "  inflating: /content/train/yes/Y45.JPG  \n",
            "  inflating: /content/train/yes/Y46.jpg  \n",
            "  inflating: /content/train/yes/Y47.JPG  \n",
            "  inflating: /content/train/yes/Y49.JPG  \n",
            "  inflating: /content/train/yes/Y50.JPG  \n",
            "  inflating: /content/train/yes/Y51.jpg  \n",
            "  inflating: /content/train/yes/Y52.jpg  \n",
            "  inflating: /content/train/yes/Y53.jpg  \n",
            "  inflating: /content/train/yes/Y54.jpg  \n",
            "  inflating: /content/train/yes/Y55.jpg  \n",
            "  inflating: /content/train/yes/Y56.jpg  \n",
            "  inflating: /content/train/yes/Y58.JPG  \n",
            "  inflating: /content/train/yes/Y59.JPG  \n",
            "  inflating: /content/train/yes/Y6.jpg  \n",
            "  inflating: /content/train/yes/Y60.jpg  \n",
            "  inflating: /content/train/yes/Y61.jpg  \n",
            "  inflating: /content/train/yes/Y62.jpg  \n",
            "  inflating: /content/train/yes/Y65.JPG  \n",
            "  inflating: /content/train/yes/Y66.JPG  \n",
            "  inflating: /content/train/yes/Y67.JPG  \n",
            "  inflating: /content/train/yes/Y69.jpg  \n",
            "  inflating: /content/train/yes/Y7.jpg  \n",
            "  inflating: /content/train/yes/Y70.jpg  \n",
            "  inflating: /content/train/yes/Y71.JPG  \n",
            "  inflating: /content/train/yes/Y73.jpg  \n",
            "  inflating: /content/train/yes/Y74.jpg  \n",
            "  inflating: /content/train/yes/Y75.JPG  \n",
            "  inflating: /content/train/yes/Y76.jpg  \n",
            "  inflating: /content/train/yes/Y77.jpg  \n",
            "  inflating: /content/train/yes/Y78.jpg  \n",
            "  inflating: /content/train/yes/Y79.jpg  \n",
            "  inflating: /content/train/yes/Y8.jpg  \n",
            "  inflating: /content/train/yes/Y81.jpg  \n",
            "  inflating: /content/train/yes/Y82.jpg  \n",
            "  inflating: /content/train/yes/Y85.JPG  \n",
            "  inflating: /content/train/yes/Y86.JPG  \n",
            "  inflating: /content/train/yes/Y89.JPG  \n",
            "  inflating: /content/train/yes/Y9.jpg  \n",
            "  inflating: /content/train/yes/Y90.jpg  \n",
            "  inflating: /content/train/yes/Y91.jpg  \n",
            "  inflating: /content/train/yes/Y92.jpg  \n",
            "  inflating: /content/train/yes/Y92.png  \n",
            "  inflating: /content/train/yes/Y95.jpg  \n",
            "  inflating: /content/train/yes/Y96.jpg  \n",
            "  inflating: /content/train/yes/Y97.JPG  \n",
            "  inflating: /content/train/yes/Y98.JPG  \n",
            "  inflating: /content/train/yes/Y99.JPG  \n"
          ]
        }
      ]
    },
    {
      "cell_type": "code",
      "source": [
        "#deta preparation\n",
        "folder = '/content/train/brain_tumor_dataset/yes/'\n",
        "count = 1\n",
        "\n",
        "for filename in os.listdir(folder):\n",
        "  source = folder + filename\n",
        "  destination = folder + \"Y_\" + str(count) + \".jpg\"\n",
        "  os.rename(source, destination)\n",
        "  count += 1\n",
        "print(\"All files are renamed in the yes dir.\")"
      ],
      "metadata": {
        "colab": {
          "base_uri": "https://localhost:8080/"
        },
        "id": "wA76I7IaeTu1",
        "outputId": "3e0c3941-6d67-48d5-8259-7d2e38a94747"
      },
      "execution_count": 11,
      "outputs": [
        {
          "output_type": "stream",
          "name": "stdout",
          "text": [
            "All files are renamed in the yes dir.\n"
          ]
        }
      ]
    },
    {
      "cell_type": "code",
      "source": [
        "folder = '/content/train/brain_tumor_dataset/no/'\n",
        "count = 1\n",
        "\n",
        "for filename in os.listdir(folder):\n",
        "  source = folder + filename\n",
        "  destination = folder + \"N_\" + str(count) + \".jpg\"\n",
        "  os.rename(source, destination)\n",
        "  count += 1\n",
        "print(\"All files are renamed in the no dir.\")"
      ],
      "metadata": {
        "colab": {
          "base_uri": "https://localhost:8080/"
        },
        "id": "sMg5oJkHeTcO",
        "outputId": "9458d04f-6310-40f8-e34d-1d286272e53c"
      },
      "execution_count": 13,
      "outputs": [
        {
          "output_type": "stream",
          "name": "stdout",
          "text": [
            "All files are renamed in the no dir.\n"
          ]
        }
      ]
    },
    {
      "cell_type": "markdown",
      "source": [
        "**EDA**"
      ],
      "metadata": {
        "id": "7hr-hGQnNi5f"
      }
    },
    {
      "cell_type": "code",
      "source": [
        "listyes = os.listdir('/content/train/brain_tumor_dataset/yes/')\n",
        "number_files_yes = len(listyes)\n",
        "print(number_files_yes)\n",
        "\n",
        "listno = os.listdir('/content/train/brain_tumor_dataset/no/')\n",
        "number_files_no = len(listno)\n",
        "print(number_files_no)"
      ],
      "metadata": {
        "id": "wwOSquqSNwZN",
        "colab": {
          "base_uri": "https://localhost:8080/"
        },
        "outputId": "033c96c2-b3be-463d-8491-e6feeddc41c1"
      },
      "execution_count": 15,
      "outputs": [
        {
          "output_type": "stream",
          "name": "stdout",
          "text": [
            "155\n",
            "45\n"
          ]
        }
      ]
    },
    {
      "cell_type": "code",
      "source": [
        "#PLOT"
      ],
      "metadata": {
        "id": "-_yM9xizbF81"
      },
      "execution_count": 16,
      "outputs": []
    },
    {
      "cell_type": "code",
      "source": [
        "data = {'tumorous': number_files_yes, 'non-tumorous': number_files_no}\n",
        "\n",
        "typex = data.keys()\n",
        "values = data.values()\n",
        "\n",
        "fig = plt.figure(figsize = (10,5))\n",
        "plt.bar(typex, values)\n",
        "\n",
        "plt.xlabel(\"Data\")\n",
        "plt.ylabel(\"No of Brain Tumor Images\")\n",
        "plt.title(\"Count of Brain Tumor Images\")\n",
        "plt.show()"
      ],
      "metadata": {
        "colab": {
          "base_uri": "https://localhost:8080/",
          "height": 492
        },
        "id": "QaN4RHi2bJCa",
        "outputId": "888a432a-c73c-4c19-f6c0-96f3cfc6d908"
      },
      "execution_count": 17,
      "outputs": [
        {
          "output_type": "display_data",
          "data": {
            "text/plain": [
              "<Figure size 1000x500 with 1 Axes>"
            ],
            "image/png": "[encoded data removed]"
          },
          "metadata": {}
        }
      ]
    },
    {
      "cell_type": "markdown",
      "source": [
        "**Data Augmentation**"
      ],
      "metadata": {
        "id": "KiKRAyZuNxME"
      }
    },
    {
      "cell_type": "code",
      "source": [],
      "metadata": {
        "id": "rSE99tLFN0Pp"
      },
      "execution_count": null,
      "outputs": []
    },
    {
      "cell_type": "markdown",
      "source": [
        "**Data Preprocessing**"
      ],
      "metadata": {
        "id": "Q5BsmbL0N-mn"
      }
    },
    {
      "cell_type": "code",
      "source": [],
      "metadata": {
        "id": "Rs_4u9oPOCj9"
      },
      "execution_count": null,
      "outputs": []
    },
    {
      "cell_type": "markdown",
      "source": [
        "**Data Spilitting**"
      ],
      "metadata": {
        "id": "_K0LPR8zODuT"
      }
    },
    {
      "cell_type": "code",
      "source": [],
      "metadata": {
        "id": "CcpBFbaCOHKj"
      },
      "execution_count": null,
      "outputs": []
    },
    {
      "cell_type": "markdown",
      "source": [
        "**Model Building**"
      ],
      "metadata": {
        "id": "rkT9fMBCOH_v"
      }
    },
    {
      "cell_type": "code",
      "source": [],
      "metadata": {
        "id": "DDcB6JrlOKee"
      },
      "execution_count": null,
      "outputs": []
    },
    {
      "cell_type": "markdown",
      "source": [
        "**Unfreezing and fine tuning**"
      ],
      "metadata": {
        "id": "QgT-WEtxOLOD"
      }
    },
    {
      "cell_type": "code",
      "source": [],
      "metadata": {
        "id": "5FSn7i5sORLm"
      },
      "execution_count": null,
      "outputs": []
    },
    {
      "cell_type": "markdown",
      "source": [],
      "metadata": {
        "id": "rMmvhiBhORsu"
      }
    }
  ]
}
{
  "nbformat": 4,
  "nbformat_minor": 0,
  "metadata": {
    "colab": {
      "provenance": [],
      "authorship_tag": "ABX9TyM+e2vPxtTEgm9gD3+LhIce",
      "include_colab_link": true
    },
    "kernelspec": {
      "name": "python3",
      "display_name": "Python 3"
    },
    "language_info": {
      "name": "python"
    }
  },
  "cells": [
    {
      "cell_type": "markdown",
      "metadata": {
        "id": "view-in-github",
        "colab_type": "text"
      },
      "source": [
        "<a href=\"https://colab.research.google.com/github/syedabusafwan/syedabusafwan/blob/practice/BrainTumorClassification.ipynb\" target=\"_parent\"><img src=\"https://colab.research.google.com/assets/colab-badge.svg\" alt=\"Open In Colab\"/></a>"
      ]
    },
    {
      "cell_type": "markdown",
      "source": [
        "**Data Preparation**"
      ],
      "metadata": {
        "id": "oi_ih9GUNkPv"
      }
    },
    {
      "cell_type": "code",
      "execution_count": 28,
      "metadata": {
        "id": "tAUeK6UyMcFQ"
      },
      "outputs": [],
      "source": [
        "import pandas as pd\n",
        "import numpy as np\n",
        "import matplotlib.pyplot as plt\n",
        "import os, shutil\n",
        "import cv2\n",
        "import matplotlib.image as mpimg\n",
        "import seaborn as sns\n",
        "%matplotlib inline\n",
        "plt.style.use('ggplot')"
      ]
    },
    {
      "cell_type": "code",
      "source": [
        "!pip install -q kaggle\n"
      ],
      "metadata": {
        "id": "AQU8mJqRVouQ"
      },
      "execution_count": 2,
      "outputs": []
    },
    {
      "cell_type": "code",
      "source": [
        "!mkdir ~/.kaggle\n",
        "!cp kaggle.json ~/.kaggle/\n",
        "!chmod 600 ~/.kaggle/kaggle.json\n",
        "!kaggle datasets list\n",
        "\n",
        "\n",
        "\n"
      ],
      "metadata": {
        "colab": {
          "base_uri": "https://localhost:8080/"
        },
        "id": "VZxmfn6EWIXm",
        "outputId": "e2177cd3-fecc-425a-d6fe-54f329d21544"
      },
      "execution_count": 3,
      "outputs": [
        {
          "output_type": "stream",
          "name": "stdout",
          "text": [
            "cp: cannot stat 'kaggle.json': No such file or directory\n",
            "chmod: cannot access '/root/.kaggle/kaggle.json': No such file or directory\n",
            "Traceback (most recent call last):\n",
            "  File \"/usr/local/bin/kaggle\", line 5, in <module>\n",
            "    from kaggle.cli import main\n",
            "  File \"/usr/local/lib/python3.10/dist-packages/kaggle/__init__.py\", line 7, in <module>\n",
            "    api.authenticate()\n",
            "  File \"/usr/local/lib/python3.10/dist-packages/kaggle/api/kaggle_api_extended.py\", line 407, in authenticate\n",
            "    raise IOError('Could not find {}. Make sure it\\'s located in'\n",
            "OSError: Could not find kaggle.json. Make sure it's located in /root/.kaggle. Or use the environment method. See setup instructions at https://github.com/Kaggle/kaggle-api/\n"
          ]
        }
      ]
    },
    {
      "cell_type": "code",
      "source": [
        "!kaggle datasets download -d navoneel/brain-mri-images-for-brain-tumor-detection"
      ],
      "metadata": {
        "colab": {
          "base_uri": "https://localhost:8080/"
        },
        "id": "2WX6rQDMXN9V",
        "outputId": "71c0ed70-a158-43fa-fcb5-09766f1c8eb2"
      },
      "execution_count": 4,
      "outputs": [
        {
          "output_type": "stream",
          "name": "stdout",
          "text": [
            "Dataset URL: https://www.kaggle.com/datasets/navoneel/brain-mri-images-for-brain-tumor-detection\n",
            "License(s): copyright-authors\n",
            "Downloading brain-mri-images-for-brain-tumor-detection.zip to /content\n",
            " 33% 5.00M/15.1M [00:00<00:00, 49.4MB/s]\n",
            "100% 15.1M/15.1M [00:00<00:00, 93.4MB/s]\n"
          ]
        }
      ]
    },
    {
      "cell_type": "code",
      "source": [
        "!mkdir train\n"
      ],
      "metadata": {
        "id": "h9Dk8UG4XcU0"
      },
      "execution_count": 5,
      "outputs": []
    },
    {
      "cell_type": "code",
      "source": [
        "!unzip '/content/brain-mri-images-for-brain-tumor-detection.zip' -d '/content/train'"
      ],
      "metadata": {
        "colab": {
          "base_uri": "https://localhost:8080/"
        },
        "id": "TWIDjJDSX3hm",
        "outputId": "23a9dc3d-676c-49f1-af19-e184c03b111d"
      },
      "execution_count": 6,
      "outputs": [
        {
          "output_type": "stream",
          "name": "stdout",
          "text": [
            "Archive:  /content/brain-mri-images-for-brain-tumor-detection.zip\n",
            "  inflating: /content/train/brain_tumor_dataset/no/1 no.jpeg  \n",
            "  inflating: /content/train/brain_tumor_dataset/no/10 no.jpg  \n",
            "  inflating: /content/train/brain_tumor_dataset/no/11 no.jpg  \n",
            "  inflating: /content/train/brain_tumor_dataset/no/12 no.jpg  \n",
            "  inflating: /content/train/brain_tumor_dataset/no/13 no.jpg  \n",
            "  inflating: /content/train/brain_tumor_dataset/no/14 no.jpg  \n",
            "  inflating: /content/train/brain_tumor_dataset/no/15 no.jpg  \n",
            "  inflating: /content/train/brain_tumor_dataset/no/17 no.jpg  \n",
            "  inflating: /content/train/brain_tumor_dataset/no/18 no.jpg  \n",
            "  inflating: /content/train/brain_tumor_dataset/no/19 no.jpg  \n",
            "  inflating: /content/train/brain_tumor_dataset/no/2 no.jpeg  \n",
            "  inflating: /content/train/brain_tumor_dataset/no/20 no.jpg  \n",
            "  inflating: /content/train/brain_tumor_dataset/no/21 no.jpg  \n",
            "  inflating: /content/train/brain_tumor_dataset/no/22 no.jpg  \n",
            "  inflating: /content/train/brain_tumor_dataset/no/23 no.jpg  \n",
            "  inflating: /content/train/brain_tumor_dataset/no/24 no.jpg  \n",
            "  inflating: /content/train/brain_tumor_dataset/no/25 no.jpg  \n",
            "  inflating: /content/train/brain_tumor_dataset/no/26 no.jpg  \n",
            "  inflating: /content/train/brain_tumor_dataset/no/27 no.jpg  \n",
            "  inflating: /content/train/brain_tumor_dataset/no/28 no.jpg  \n",
            "  inflating: /content/train/brain_tumor_dataset/no/29 no.jpg  \n",
            "  inflating: /content/train/brain_tumor_dataset/no/3 no.jpg  \n",
            "  inflating: /content/train/brain_tumor_dataset/no/30 no.jpg  \n",
            "  inflating: /content/train/brain_tumor_dataset/no/31 no.jpg  \n",
            "  inflating: /content/train/brain_tumor_dataset/no/32 no.jpg  \n",
            "  inflating: /content/train/brain_tumor_dataset/no/33 no.jpg  \n",
            "  inflating: /content/train/brain_tumor_dataset/no/34 no.jpg  \n",
            "  inflating: /content/train/brain_tumor_dataset/no/35 no.jpg  \n",
            "  inflating: /content/train/brain_tumor_dataset/no/36 no.jpg  \n",
            "  inflating: /content/train/brain_tumor_dataset/no/37 no.jpg  \n",
            "  inflating: /content/train/brain_tumor_dataset/no/38 no.jpg  \n",
            "  inflating: /content/train/brain_tumor_dataset/no/39 no.jpg  \n",
            "  inflating: /content/train/brain_tumor_dataset/no/4 no.jpg  \n",
            "  inflating: /content/train/brain_tumor_dataset/no/40 no.jpg  \n",
            "  inflating: /content/train/brain_tumor_dataset/no/41 no.jpg  \n",
            "  inflating: /content/train/brain_tumor_dataset/no/42 no.jpg  \n",
            "  inflating: /content/train/brain_tumor_dataset/no/43 no.jpg  \n",
            "  inflating: /content/train/brain_tumor_dataset/no/44no.jpg  \n",
            "  inflating: /content/train/brain_tumor_dataset/no/45 no.jpg  \n",
            "  inflating: /content/train/brain_tumor_dataset/no/46 no.jpg  \n",
            "  inflating: /content/train/brain_tumor_dataset/no/47 no.jpg  \n",
            "  inflating: /content/train/brain_tumor_dataset/no/48 no.jpeg  \n",
            "  inflating: /content/train/brain_tumor_dataset/no/49 no.jpg  \n",
            "  inflating: /content/train/brain_tumor_dataset/no/5 no.jpg  \n",
            "  inflating: /content/train/brain_tumor_dataset/no/50 no.jpg  \n",
            "  inflating: /content/train/brain_tumor_dataset/no/6 no.jpg  \n",
            "  inflating: /content/train/brain_tumor_dataset/no/7 no.jpg  \n",
            "  inflating: /content/train/brain_tumor_dataset/no/8 no.jpg  \n",
            "  inflating: /content/train/brain_tumor_dataset/no/9 no.jpg  \n",
            "  inflating: /content/train/brain_tumor_dataset/no/N1.JPG  \n",
            "  inflating: /content/train/brain_tumor_dataset/no/N11.jpg  \n",
            "  inflating: /content/train/brain_tumor_dataset/no/N15.jpg  \n",
            "  inflating: /content/train/brain_tumor_dataset/no/N16.jpg  \n",
            "  inflating: /content/train/brain_tumor_dataset/no/N17.jpg  \n",
            "  inflating: /content/train/brain_tumor_dataset/no/N19.JPG  \n",
            "  inflating: /content/train/brain_tumor_dataset/no/N2.JPG  \n",
            "  inflating: /content/train/brain_tumor_dataset/no/N20.JPG  \n",
            "  inflating: /content/train/brain_tumor_dataset/no/N21.jpg  \n",
            "  inflating: /content/train/brain_tumor_dataset/no/N22.JPG  \n",
            "  inflating: /content/train/brain_tumor_dataset/no/N26.JPG  \n",
            "  inflating: /content/train/brain_tumor_dataset/no/N3.jpg  \n",
            "  inflating: /content/train/brain_tumor_dataset/no/N5.jpg  \n",
            "  inflating: /content/train/brain_tumor_dataset/no/N6.jpg  \n",
            "  inflating: /content/train/brain_tumor_dataset/no/No11.jpg  \n",
            "  inflating: /content/train/brain_tumor_dataset/no/No12.jpg  \n",
            "  inflating: /content/train/brain_tumor_dataset/no/No13.jpg  \n",
            "  inflating: /content/train/brain_tumor_dataset/no/No14.jpg  \n",
            "  inflating: /content/train/brain_tumor_dataset/no/No15.jpg  \n",
            "  inflating: /content/train/brain_tumor_dataset/no/No16.jpg  \n",
            "  inflating: /content/train/brain_tumor_dataset/no/No17.jpg  \n",
            "  inflating: /content/train/brain_tumor_dataset/no/No18.jpg  \n",
            "  inflating: /content/train/brain_tumor_dataset/no/No19.jpg  \n",
            "  inflating: /content/train/brain_tumor_dataset/no/No20.jpg  \n",
            "  inflating: /content/train/brain_tumor_dataset/no/No21.jpg  \n",
            "  inflating: /content/train/brain_tumor_dataset/no/No22.jpg  \n",
            "  inflating: /content/train/brain_tumor_dataset/no/no 1.jpg  \n",
            "  inflating: /content/train/brain_tumor_dataset/no/no 10.jpg  \n",
            "  inflating: /content/train/brain_tumor_dataset/no/no 100.jpg  \n",
            "  inflating: /content/train/brain_tumor_dataset/no/no 2.jpg  \n",
            "  inflating: /content/train/brain_tumor_dataset/no/no 3.jpg  \n",
            "  inflating: /content/train/brain_tumor_dataset/no/no 4.jpg  \n",
            "  inflating: /content/train/brain_tumor_dataset/no/no 5.jpeg  \n",
            "  inflating: /content/train/brain_tumor_dataset/no/no 6.jpg  \n",
            "  inflating: /content/train/brain_tumor_dataset/no/no 7.jpeg  \n",
            "  inflating: /content/train/brain_tumor_dataset/no/no 8.jpg  \n",
            "  inflating: /content/train/brain_tumor_dataset/no/no 89.jpg  \n",
            "  inflating: /content/train/brain_tumor_dataset/no/no 9.png  \n",
            "  inflating: /content/train/brain_tumor_dataset/no/no 90.jpg  \n",
            "  inflating: /content/train/brain_tumor_dataset/no/no 91.jpeg  \n",
            "  inflating: /content/train/brain_tumor_dataset/no/no 92.jpg  \n",
            "  inflating: /content/train/brain_tumor_dataset/no/no 923.jpg  \n",
            "  inflating: /content/train/brain_tumor_dataset/no/no 94.jpg  \n",
            "  inflating: /content/train/brain_tumor_dataset/no/no 95.jpg  \n",
            "  inflating: /content/train/brain_tumor_dataset/no/no 96.jpg  \n",
            "  inflating: /content/train/brain_tumor_dataset/no/no 97.jpg  \n",
            "  inflating: /content/train/brain_tumor_dataset/no/no 98.jpg  \n",
            "  inflating: /content/train/brain_tumor_dataset/no/no 99.jpg  \n",
            "  inflating: /content/train/brain_tumor_dataset/no/no.jpg  \n",
            "  inflating: /content/train/brain_tumor_dataset/yes/Y1.jpg  \n",
            "  inflating: /content/train/brain_tumor_dataset/yes/Y10.jpg  \n",
            "  inflating: /content/train/brain_tumor_dataset/yes/Y100.JPG  \n",
            "  inflating: /content/train/brain_tumor_dataset/yes/Y101.jpg  \n",
            "  inflating: /content/train/brain_tumor_dataset/yes/Y102.jpg  \n",
            "  inflating: /content/train/brain_tumor_dataset/yes/Y103.jpg  \n",
            "  inflating: /content/train/brain_tumor_dataset/yes/Y104.jpg  \n",
            "  inflating: /content/train/brain_tumor_dataset/yes/Y105.jpg  \n",
            "  inflating: /content/train/brain_tumor_dataset/yes/Y106.jpg  \n",
            "  inflating: /content/train/brain_tumor_dataset/yes/Y107.jpg  \n",
            "  inflating: /content/train/brain_tumor_dataset/yes/Y108.jpg  \n",
            "  inflating: /content/train/brain_tumor_dataset/yes/Y109.JPG  \n",
            "  inflating: /content/train/brain_tumor_dataset/yes/Y11.jpg  \n",
            "  inflating: /content/train/brain_tumor_dataset/yes/Y111.JPG  \n",
            "  inflating: /content/train/brain_tumor_dataset/yes/Y112.JPG  \n",
            "  inflating: /content/train/brain_tumor_dataset/yes/Y113.JPG  \n",
            "  inflating: /content/train/brain_tumor_dataset/yes/Y114.JPG  \n",
            "  inflating: /content/train/brain_tumor_dataset/yes/Y115.JPG  \n",
            "  inflating: /content/train/brain_tumor_dataset/yes/Y116.JPG  \n",
            "  inflating: /content/train/brain_tumor_dataset/yes/Y117.JPG  \n",
            "  inflating: /content/train/brain_tumor_dataset/yes/Y12.jpg  \n",
            "  inflating: /content/train/brain_tumor_dataset/yes/Y120.JPG  \n",
            "  inflating: /content/train/brain_tumor_dataset/yes/Y13.jpg  \n",
            "  inflating: /content/train/brain_tumor_dataset/yes/Y14.jpg  \n",
            "  inflating: /content/train/brain_tumor_dataset/yes/Y146.JPG  \n",
            "  inflating: /content/train/brain_tumor_dataset/yes/Y147.JPG  \n",
            "  inflating: /content/train/brain_tumor_dataset/yes/Y148.JPG  \n",
            "  inflating: /content/train/brain_tumor_dataset/yes/Y15.jpg  \n",
            "  inflating: /content/train/brain_tumor_dataset/yes/Y153.jpg  \n",
            "  inflating: /content/train/brain_tumor_dataset/yes/Y154.jpg  \n",
            "  inflating: /content/train/brain_tumor_dataset/yes/Y155.JPG  \n",
            "  inflating: /content/train/brain_tumor_dataset/yes/Y156.JPG  \n",
            "  inflating: /content/train/brain_tumor_dataset/yes/Y157.JPG  \n",
            "  inflating: /content/train/brain_tumor_dataset/yes/Y158.JPG  \n",
            "  inflating: /content/train/brain_tumor_dataset/yes/Y159.JPG  \n",
            "  inflating: /content/train/brain_tumor_dataset/yes/Y16.JPG  \n",
            "  inflating: /content/train/brain_tumor_dataset/yes/Y160.JPG  \n",
            "  inflating: /content/train/brain_tumor_dataset/yes/Y161.JPG  \n",
            "  inflating: /content/train/brain_tumor_dataset/yes/Y162.jpg  \n",
            "  inflating: /content/train/brain_tumor_dataset/yes/Y163.JPG  \n",
            "  inflating: /content/train/brain_tumor_dataset/yes/Y164.JPG  \n",
            "  inflating: /content/train/brain_tumor_dataset/yes/Y165.JPG  \n",
            "  inflating: /content/train/brain_tumor_dataset/yes/Y166.JPG  \n",
            "  inflating: /content/train/brain_tumor_dataset/yes/Y167.JPG  \n",
            "  inflating: /content/train/brain_tumor_dataset/yes/Y168.jpg  \n",
            "  inflating: /content/train/brain_tumor_dataset/yes/Y169.jpg  \n",
            "  inflating: /content/train/brain_tumor_dataset/yes/Y17.jpg  \n",
            "  inflating: /content/train/brain_tumor_dataset/yes/Y170.JPG  \n",
            "  inflating: /content/train/brain_tumor_dataset/yes/Y18.JPG  \n",
            "  inflating: /content/train/brain_tumor_dataset/yes/Y180.jpg  \n",
            "  inflating: /content/train/brain_tumor_dataset/yes/Y181.jpg  \n",
            "  inflating: /content/train/brain_tumor_dataset/yes/Y182.JPG  \n",
            "  inflating: /content/train/brain_tumor_dataset/yes/Y183.jpg  \n",
            "  inflating: /content/train/brain_tumor_dataset/yes/Y184.JPG  \n",
            "  inflating: /content/train/brain_tumor_dataset/yes/Y185.jpg  \n",
            "  inflating: /content/train/brain_tumor_dataset/yes/Y186.jpg  \n",
            "  inflating: /content/train/brain_tumor_dataset/yes/Y187.jpg  \n",
            "  inflating: /content/train/brain_tumor_dataset/yes/Y188.jpg  \n",
            "  inflating: /content/train/brain_tumor_dataset/yes/Y19.JPG  \n",
            "  inflating: /content/train/brain_tumor_dataset/yes/Y192.JPG  \n",
            "  inflating: /content/train/brain_tumor_dataset/yes/Y193.JPG  \n",
            "  inflating: /content/train/brain_tumor_dataset/yes/Y194.jpg  \n",
            "  inflating: /content/train/brain_tumor_dataset/yes/Y195.JPG  \n",
            "  inflating: /content/train/brain_tumor_dataset/yes/Y2.jpg  \n",
            "  inflating: /content/train/brain_tumor_dataset/yes/Y20.jpg  \n",
            "  inflating: /content/train/brain_tumor_dataset/yes/Y21.jpg  \n",
            "  inflating: /content/train/brain_tumor_dataset/yes/Y22.jpg  \n",
            "  inflating: /content/train/brain_tumor_dataset/yes/Y23.JPG  \n",
            "  inflating: /content/train/brain_tumor_dataset/yes/Y24.jpg  \n",
            "  inflating: /content/train/brain_tumor_dataset/yes/Y242.JPG  \n",
            "  inflating: /content/train/brain_tumor_dataset/yes/Y243.JPG  \n",
            "  inflating: /content/train/brain_tumor_dataset/yes/Y244.JPG  \n",
            "  inflating: /content/train/brain_tumor_dataset/yes/Y245.jpg  \n",
            "  inflating: /content/train/brain_tumor_dataset/yes/Y246.JPG  \n",
            "  inflating: /content/train/brain_tumor_dataset/yes/Y247.JPG  \n",
            "  inflating: /content/train/brain_tumor_dataset/yes/Y248.JPG  \n",
            "  inflating: /content/train/brain_tumor_dataset/yes/Y249.JPG  \n",
            "  inflating: /content/train/brain_tumor_dataset/yes/Y25.jpg  \n",
            "  inflating: /content/train/brain_tumor_dataset/yes/Y250.jpg  \n",
            "  inflating: /content/train/brain_tumor_dataset/yes/Y251.JPG  \n",
            "  inflating: /content/train/brain_tumor_dataset/yes/Y252.jpg  \n",
            "  inflating: /content/train/brain_tumor_dataset/yes/Y253.JPG  \n",
            "  inflating: /content/train/brain_tumor_dataset/yes/Y254.jpg  \n",
            "  inflating: /content/train/brain_tumor_dataset/yes/Y255.JPG  \n",
            "  inflating: /content/train/brain_tumor_dataset/yes/Y256.JPG  \n",
            "  inflating: /content/train/brain_tumor_dataset/yes/Y257.jpg  \n",
            "  inflating: /content/train/brain_tumor_dataset/yes/Y258.JPG  \n",
            "  inflating: /content/train/brain_tumor_dataset/yes/Y259.JPG  \n",
            "  inflating: /content/train/brain_tumor_dataset/yes/Y26.jpg  \n",
            "  inflating: /content/train/brain_tumor_dataset/yes/Y27.jpg  \n",
            "  inflating: /content/train/brain_tumor_dataset/yes/Y28.jpg  \n",
            "  inflating: /content/train/brain_tumor_dataset/yes/Y29.jpg  \n",
            "  inflating: /content/train/brain_tumor_dataset/yes/Y3.jpg  \n",
            "  inflating: /content/train/brain_tumor_dataset/yes/Y30.jpg  \n",
            "  inflating: /content/train/brain_tumor_dataset/yes/Y31.jpg  \n",
            "  inflating: /content/train/brain_tumor_dataset/yes/Y32.jpg  \n",
            "  inflating: /content/train/brain_tumor_dataset/yes/Y33.jpg  \n",
            "  inflating: /content/train/brain_tumor_dataset/yes/Y34.jpg  \n",
            "  inflating: /content/train/brain_tumor_dataset/yes/Y35.jpg  \n",
            "  inflating: /content/train/brain_tumor_dataset/yes/Y36.JPG  \n",
            "  inflating: /content/train/brain_tumor_dataset/yes/Y37.jpg  \n",
            "  inflating: /content/train/brain_tumor_dataset/yes/Y38.jpg  \n",
            "  inflating: /content/train/brain_tumor_dataset/yes/Y39.jpg  \n",
            "  inflating: /content/train/brain_tumor_dataset/yes/Y4.jpg  \n",
            "  inflating: /content/train/brain_tumor_dataset/yes/Y40.JPG  \n",
            "  inflating: /content/train/brain_tumor_dataset/yes/Y41.jpg  \n",
            "  inflating: /content/train/brain_tumor_dataset/yes/Y42.jpg  \n",
            "  inflating: /content/train/brain_tumor_dataset/yes/Y44.JPG  \n",
            "  inflating: /content/train/brain_tumor_dataset/yes/Y45.JPG  \n",
            "  inflating: /content/train/brain_tumor_dataset/yes/Y46.jpg  \n",
            "  inflating: /content/train/brain_tumor_dataset/yes/Y47.JPG  \n",
            "  inflating: /content/train/brain_tumor_dataset/yes/Y49.JPG  \n",
            "  inflating: /content/train/brain_tumor_dataset/yes/Y50.JPG  \n",
            "  inflating: /content/train/brain_tumor_dataset/yes/Y51.jpg  \n",
            "  inflating: /content/train/brain_tumor_dataset/yes/Y52.jpg  \n",
            "  inflating: /content/train/brain_tumor_dataset/yes/Y53.jpg  \n",
            "  inflating: /content/train/brain_tumor_dataset/yes/Y54.jpg  \n",
            "  inflating: /content/train/brain_tumor_dataset/yes/Y55.jpg  \n",
            "  inflating: /content/train/brain_tumor_dataset/yes/Y56.jpg  \n",
            "  inflating: /content/train/brain_tumor_dataset/yes/Y58.JPG  \n",
            "  inflating: /content/train/brain_tumor_dataset/yes/Y59.JPG  \n",
            "  inflating: /content/train/brain_tumor_dataset/yes/Y6.jpg  \n",
            "  inflating: /content/train/brain_tumor_dataset/yes/Y60.jpg  \n",
            "  inflating: /content/train/brain_tumor_dataset/yes/Y61.jpg  \n",
            "  inflating: /content/train/brain_tumor_dataset/yes/Y62.jpg  \n",
            "  inflating: /content/train/brain_tumor_dataset/yes/Y65.JPG  \n",
            "  inflating: /content/train/brain_tumor_dataset/yes/Y66.JPG  \n",
            "  inflating: /content/train/brain_tumor_dataset/yes/Y67.JPG  \n",
            "  inflating: /content/train/brain_tumor_dataset/yes/Y69.jpg  \n",
            "  inflating: /content/train/brain_tumor_dataset/yes/Y7.jpg  \n",
            "  inflating: /content/train/brain_tumor_dataset/yes/Y70.jpg  \n",
            "  inflating: /content/train/brain_tumor_dataset/yes/Y71.JPG  \n",
            "  inflating: /content/train/brain_tumor_dataset/yes/Y73.jpg  \n",
            "  inflating: /content/train/brain_tumor_dataset/yes/Y74.jpg  \n",
            "  inflating: /content/train/brain_tumor_dataset/yes/Y75.JPG  \n",
            "  inflating: /content/train/brain_tumor_dataset/yes/Y76.jpg  \n",
            "  inflating: /content/train/brain_tumor_dataset/yes/Y77.jpg  \n",
            "  inflating: /content/train/brain_tumor_dataset/yes/Y78.jpg  \n",
            "  inflating: /content/train/brain_tumor_dataset/yes/Y79.jpg  \n",
            "  inflating: /content/train/brain_tumor_dataset/yes/Y8.jpg  \n",
            "  inflating: /content/train/brain_tumor_dataset/yes/Y81.jpg  \n",
            "  inflating: /content/train/brain_tumor_dataset/yes/Y82.jpg  \n",
            "  inflating: /content/train/brain_tumor_dataset/yes/Y85.JPG  \n",
            "  inflating: /content/train/brain_tumor_dataset/yes/Y86.JPG  \n",
            "  inflating: /content/train/brain_tumor_dataset/yes/Y89.JPG  \n",
            "  inflating: /content/train/brain_tumor_dataset/yes/Y9.jpg  \n",
            "  inflating: /content/train/brain_tumor_dataset/yes/Y90.jpg  \n",
            "  inflating: /content/train/brain_tumor_dataset/yes/Y91.jpg  \n",
            "  inflating: /content/train/brain_tumor_dataset/yes/Y92.jpg  \n",
            "  inflating: /content/train/brain_tumor_dataset/yes/Y92.png  \n",
            "  inflating: /content/train/brain_tumor_dataset/yes/Y95.jpg  \n",
            "  inflating: /content/train/brain_tumor_dataset/yes/Y96.jpg  \n",
            "  inflating: /content/train/brain_tumor_dataset/yes/Y97.JPG  \n",
            "  inflating: /content/train/brain_tumor_dataset/yes/Y98.JPG  \n",
            "  inflating: /content/train/brain_tumor_dataset/yes/Y99.JPG  \n",
            "  inflating: /content/train/no/1 no.jpeg  \n",
            "  inflating: /content/train/no/10 no.jpg  \n",
            "  inflating: /content/train/no/11 no.jpg  \n",
            "  inflating: /content/train/no/12 no.jpg  \n",
            "  inflating: /content/train/no/13 no.jpg  \n",
            "  inflating: /content/train/no/14 no.jpg  \n",
            "  inflating: /content/train/no/15 no.jpg  \n",
            "  inflating: /content/train/no/17 no.jpg  \n",
            "  inflating: /content/train/no/18 no.jpg  \n",
            "  inflating: /content/train/no/19 no.jpg  \n",
            "  inflating: /content/train/no/2 no.jpeg  \n",
            "  inflating: /content/train/no/20 no.jpg  \n",
            "  inflating: /content/train/no/21 no.jpg  \n",
            "  inflating: /content/train/no/22 no.jpg  \n",
            "  inflating: /content/train/no/23 no.jpg  \n",
            "  inflating: /content/train/no/24 no.jpg  \n",
            "  inflating: /content/train/no/25 no.jpg  \n",
            "  inflating: /content/train/no/26 no.jpg  \n",
            "  inflating: /content/train/no/27 no.jpg  \n",
            "  inflating: /content/train/no/28 no.jpg  \n",
            "  inflating: /content/train/no/29 no.jpg  \n",
            "  inflating: /content/train/no/3 no.jpg  \n",
            "  inflating: /content/train/no/30 no.jpg  \n",
            "  inflating: /content/train/no/31 no.jpg  \n",
            "  inflating: /content/train/no/32 no.jpg  \n",
            "  inflating: /content/train/no/33 no.jpg  \n",
            "  inflating: /content/train/no/34 no.jpg  \n",
            "  inflating: /content/train/no/35 no.jpg  \n",
            "  inflating: /content/train/no/36 no.jpg  \n",
            "  inflating: /content/train/no/37 no.jpg  \n",
            "  inflating: /content/train/no/38 no.jpg  \n",
            "  inflating: /content/train/no/39 no.jpg  \n",
            "  inflating: /content/train/no/4 no.jpg  \n",
            "  inflating: /content/train/no/40 no.jpg  \n",
            "  inflating: /content/train/no/41 no.jpg  \n",
            "  inflating: /content/train/no/42 no.jpg  \n",
            "  inflating: /content/train/no/43 no.jpg  \n",
            "  inflating: /content/train/no/44no.jpg  \n",
            "  inflating: /content/train/no/45 no.jpg  \n",
            "  inflating: /content/train/no/46 no.jpg  \n",
            "  inflating: /content/train/no/47 no.jpg  \n",
            "  inflating: /content/train/no/48 no.jpeg  \n",
            "  inflating: /content/train/no/49 no.jpg  \n",
            "  inflating: /content/train/no/5 no.jpg  \n",
            "  inflating: /content/train/no/50 no.jpg  \n",
            "  inflating: /content/train/no/6 no.jpg  \n",
            "  inflating: /content/train/no/7 no.jpg  \n",
            "  inflating: /content/train/no/8 no.jpg  \n",
            "  inflating: /content/train/no/9 no.jpg  \n",
            "  inflating: /content/train/no/N1.JPG  \n",
            "  inflating: /content/train/no/N11.jpg  \n",
            "  inflating: /content/train/no/N15.jpg  \n",
            "  inflating: /content/train/no/N16.jpg  \n",
            "  inflating: /content/train/no/N17.jpg  \n",
            "  inflating: /content/train/no/N19.JPG  \n",
            "  inflating: /content/train/no/N2.JPG  \n",
            "  inflating: /content/train/no/N20.JPG  \n",
            "  inflating: /content/train/no/N21.jpg  \n",
            "  inflating: /content/train/no/N22.JPG  \n",
            "  inflating: /content/train/no/N26.JPG  \n",
            "  inflating: /content/train/no/N3.jpg  \n",
            "  inflating: /content/train/no/N5.jpg  \n",
            "  inflating: /content/train/no/N6.jpg  \n",
            "  inflating: /content/train/no/No11.jpg  \n",
            "  inflating: /content/train/no/No12.jpg  \n",
            "  inflating: /content/train/no/No13.jpg  \n",
            "  inflating: /content/train/no/No14.jpg  \n",
            "  inflating: /content/train/no/No15.jpg  \n",
            "  inflating: /content/train/no/No16.jpg  \n",
            "  inflating: /content/train/no/No17.jpg  \n",
            "  inflating: /content/train/no/No18.jpg  \n",
            "  inflating: /content/train/no/No19.jpg  \n",
            "  inflating: /content/train/no/No20.jpg  \n",
            "  inflating: /content/train/no/No21.jpg  \n",
            "  inflating: /content/train/no/No22.jpg  \n",
            "  inflating: /content/train/no/no 1.jpg  \n",
            "  inflating: /content/train/no/no 10.jpg  \n",
            "  inflating: /content/train/no/no 100.jpg  \n",
            "  inflating: /content/train/no/no 2.jpg  \n",
            "  inflating: /content/train/no/no 3.jpg  \n",
            "  inflating: /content/train/no/no 4.jpg  \n",
            "  inflating: /content/train/no/no 5.jpeg  \n",
            "  inflating: /content/train/no/no 6.jpg  \n",
            "  inflating: /content/train/no/no 7.jpeg  \n",
            "  inflating: /content/train/no/no 8.jpg  \n",
            "  inflating: /content/train/no/no 89.jpg  \n",
            "  inflating: /content/train/no/no 9.png  \n",
            "  inflating: /content/train/no/no 90.jpg  \n",
            "  inflating: /content/train/no/no 91.jpeg  \n",
            "  inflating: /content/train/no/no 92.jpg  \n",
            "  inflating: /content/train/no/no 923.jpg  \n",
            "  inflating: /content/train/no/no 94.jpg  \n",
            "  inflating: /content/train/no/no 95.jpg  \n",
            "  inflating: /content/train/no/no 96.jpg  \n",
            "  inflating: /content/train/no/no 97.jpg  \n",
            "  inflating: /content/train/no/no 98.jpg  \n",
            "  inflating: /content/train/no/no 99.jpg  \n",
            "  inflating: /content/train/no/no.jpg  \n",
            "  inflating: /content/train/yes/Y1.jpg  \n",
            "  inflating: /content/train/yes/Y10.jpg  \n",
            "  inflating: /content/train/yes/Y100.JPG  \n",
            "  inflating: /content/train/yes/Y101.jpg  \n",
            "  inflating: /content/train/yes/Y102.jpg  \n",
            "  inflating: /content/train/yes/Y103.jpg  \n",
            "  inflating: /content/train/yes/Y104.jpg  \n",
            "  inflating: /content/train/yes/Y105.jpg  \n",
            "  inflating: /content/train/yes/Y106.jpg  \n",
            "  inflating: /content/train/yes/Y107.jpg  \n",
            "  inflating: /content/train/yes/Y108.jpg  \n",
            "  inflating: /content/train/yes/Y109.JPG  \n",
            "  inflating: /content/train/yes/Y11.jpg  \n",
            "  inflating: /content/train/yes/Y111.JPG  \n",
            "  inflating: /content/train/yes/Y112.JPG  \n",
            "  inflating: /content/train/yes/Y113.JPG  \n",
            "  inflating: /content/train/yes/Y114.JPG  \n",
            "  inflating: /content/train/yes/Y115.JPG  \n",
            "  inflating: /content/train/yes/Y116.JPG  \n",
            "  inflating: /content/train/yes/Y117.JPG  \n",
            "  inflating: /content/train/yes/Y12.jpg  \n",
            "  inflating: /content/train/yes/Y120.JPG  \n",
            "  inflating: /content/train/yes/Y13.jpg  \n",
            "  inflating: /content/train/yes/Y14.jpg  \n",
            "  inflating: /content/train/yes/Y146.JPG  \n",
            "  inflating: /content/train/yes/Y147.JPG  \n",
            "  inflating: /content/train/yes/Y148.JPG  \n",
            "  inflating: /content/train/yes/Y15.jpg  \n",
            "  inflating: /content/train/yes/Y153.jpg  \n",
            "  inflating: /content/train/yes/Y154.jpg  \n",
            "  inflating: /content/train/yes/Y155.JPG  \n",
            "  inflating: /content/train/yes/Y156.JPG  \n",
            "  inflating: /content/train/yes/Y157.JPG  \n",
            "  inflating: /content/train/yes/Y158.JPG  \n",
            "  inflating: /content/train/yes/Y159.JPG  \n",
            "  inflating: /content/train/yes/Y16.JPG  \n",
            "  inflating: /content/train/yes/Y160.JPG  \n",
            "  inflating: /content/train/yes/Y161.JPG  \n",
            "  inflating: /content/train/yes/Y162.jpg  \n",
            "  inflating: /content/train/yes/Y163.JPG  \n",
            "  inflating: /content/train/yes/Y164.JPG  \n",
            "  inflating: /content/train/yes/Y165.JPG  \n",
            "  inflating: /content/train/yes/Y166.JPG  \n",
            "  inflating: /content/train/yes/Y167.JPG  \n",
            "  inflating: /content/train/yes/Y168.jpg  \n",
            "  inflating: /content/train/yes/Y169.jpg  \n",
            "  inflating: /content/train/yes/Y17.jpg  \n",
            "  inflating: /content/train/yes/Y170.JPG  \n",
            "  inflating: /content/train/yes/Y18.JPG  \n",
            "  inflating: /content/train/yes/Y180.jpg  \n",
            "  inflating: /content/train/yes/Y181.jpg  \n",
            "  inflating: /content/train/yes/Y182.JPG  \n",
            "  inflating: /content/train/yes/Y183.jpg  \n",
            "  inflating: /content/train/yes/Y184.JPG  \n",
            "  inflating: /content/train/yes/Y185.jpg  \n",
            "  inflating: /content/train/yes/Y186.jpg  \n",
            "  inflating: /content/train/yes/Y187.jpg  \n",
            "  inflating: /content/train/yes/Y188.jpg  \n",
            "  inflating: /content/train/yes/Y19.JPG  \n",
            "  inflating: /content/train/yes/Y192.JPG  \n",
            "  inflating: /content/train/yes/Y193.JPG  \n",
            "  inflating: /content/train/yes/Y194.jpg  \n",
            "  inflating: /content/train/yes/Y195.JPG  \n",
            "  inflating: /content/train/yes/Y2.jpg  \n",
            "  inflating: /content/train/yes/Y20.jpg  \n",
            "  inflating: /content/train/yes/Y21.jpg  \n",
            "  inflating: /content/train/yes/Y22.jpg  \n",
            "  inflating: /content/train/yes/Y23.JPG  \n",
            "  inflating: /content/train/yes/Y24.jpg  \n",
            "  inflating: /content/train/yes/Y242.JPG  \n",
            "  inflating: /content/train/yes/Y243.JPG  \n",
            "  inflating: /content/train/yes/Y244.JPG  \n",
            "  inflating: /content/train/yes/Y245.jpg  \n",
            "  inflating: /content/train/yes/Y246.JPG  \n",
            "  inflating: /content/train/yes/Y247.JPG  \n",
            "  inflating: /content/train/yes/Y248.JPG  \n",
            "  inflating: /content/train/yes/Y249.JPG  \n",
            "  inflating: /content/train/yes/Y25.jpg  \n",
            "  inflating: /content/train/yes/Y250.jpg  \n",
            "  inflating: /content/train/yes/Y251.JPG  \n",
            "  inflating: /content/train/yes/Y252.jpg  \n",
            "  inflating: /content/train/yes/Y253.JPG  \n",
            "  inflating: /content/train/yes/Y254.jpg  \n",
            "  inflating: /content/train/yes/Y255.JPG  \n",
            "  inflating: /content/train/yes/Y256.JPG  \n",
            "  inflating: /content/train/yes/Y257.jpg  \n",
            "  inflating: /content/train/yes/Y258.JPG  \n",
            "  inflating: /content/train/yes/Y259.JPG  \n",
            "  inflating: /content/train/yes/Y26.jpg  \n",
            "  inflating: /content/train/yes/Y27.jpg  \n",
            "  inflating: /content/train/yes/Y28.jpg  \n",
            "  inflating: /content/train/yes/Y29.jpg  \n",
            "  inflating: /content/train/yes/Y3.jpg  \n",
            "  inflating: /content/train/yes/Y30.jpg  \n",
            "  inflating: /content/train/yes/Y31.jpg  \n",
            "  inflating: /content/train/yes/Y32.jpg  \n",
            "  inflating: /content/train/yes/Y33.jpg  \n",
            "  inflating: /content/train/yes/Y34.jpg  \n",
            "  inflating: /content/train/yes/Y35.jpg  \n",
            "  inflating: /content/train/yes/Y36.JPG  \n",
            "  inflating: /content/train/yes/Y37.jpg  \n",
            "  inflating: /content/train/yes/Y38.jpg  \n",
            "  inflating: /content/train/yes/Y39.jpg  \n",
            "  inflating: /content/train/yes/Y4.jpg  \n",
            "  inflating: /content/train/yes/Y40.JPG  \n",
            "  inflating: /content/train/yes/Y41.jpg  \n",
            "  inflating: /content/train/yes/Y42.jpg  \n",
            "  inflating: /content/train/yes/Y44.JPG  \n",
            "  inflating: /content/train/yes/Y45.JPG  \n",
            "  inflating: /content/train/yes/Y46.jpg  \n",
            "  inflating: /content/train/yes/Y47.JPG  \n",
            "  inflating: /content/train/yes/Y49.JPG  \n",
            "  inflating: /content/train/yes/Y50.JPG  \n",
            "  inflating: /content/train/yes/Y51.jpg  \n",
            "  inflating: /content/train/yes/Y52.jpg  \n",
            "  inflating: /content/train/yes/Y53.jpg  \n",
            "  inflating: /content/train/yes/Y54.jpg  \n",
            "  inflating: /content/train/yes/Y55.jpg  \n",
            "  inflating: /content/train/yes/Y56.jpg  \n",
            "  inflating: /content/train/yes/Y58.JPG  \n",
            "  inflating: /content/train/yes/Y59.JPG  \n",
            "  inflating: /content/train/yes/Y6.jpg  \n",
            "  inflating: /content/train/yes/Y60.jpg  \n",
            "  inflating: /content/train/yes/Y61.jpg  \n",
            "  inflating: /content/train/yes/Y62.jpg  \n",
            "  inflating: /content/train/yes/Y65.JPG  \n",
            "  inflating: /content/train/yes/Y66.JPG  \n",
            "  inflating: /content/train/yes/Y67.JPG  \n",
            "  inflating: /content/train/yes/Y69.jpg  \n",
            "  inflating: /content/train/yes/Y7.jpg  \n",
            "  inflating: /content/train/yes/Y70.jpg  \n",
            "  inflating: /content/train/yes/Y71.JPG  \n",
            "  inflating: /content/train/yes/Y73.jpg  \n",
            "  inflating: /content/train/yes/Y74.jpg  \n",
            "  inflating: /content/train/yes/Y75.JPG  \n",
            "  inflating: /content/train/yes/Y76.jpg  \n",
            "  inflating: /content/train/yes/Y77.jpg  \n",
            "  inflating: /content/train/yes/Y78.jpg  \n",
            "  inflating: /content/train/yes/Y79.jpg  \n",
            "  inflating: /content/train/yes/Y8.jpg  \n",
            "  inflating: /content/train/yes/Y81.jpg  \n",
            "  inflating: /content/train/yes/Y82.jpg  \n",
            "  inflating: /content/train/yes/Y85.JPG  \n",
            "  inflating: /content/train/yes/Y86.JPG  \n",
            "  inflating: /content/train/yes/Y89.JPG  \n",
            "  inflating: /content/train/yes/Y9.jpg  \n",
            "  inflating: /content/train/yes/Y90.jpg  \n",
            "  inflating: /content/train/yes/Y91.jpg  \n",
            "  inflating: /content/train/yes/Y92.jpg  \n",
            "  inflating: /content/train/yes/Y92.png  \n",
            "  inflating: /content/train/yes/Y95.jpg  \n",
            "  inflating: /content/train/yes/Y96.jpg  \n",
            "  inflating: /content/train/yes/Y97.JPG  \n",
            "  inflating: /content/train/yes/Y98.JPG  \n",
            "  inflating: /content/train/yes/Y99.JPG  \n"
          ]
        }
      ]
    },
    {
      "cell_type": "code",
      "source": [
        "#deta preparation\n",
        "folder = '/content/train/brain_tumor_dataset/yes/'\n",
        "count = 1\n",
        "\n",
        "for filename in os.listdir(folder):\n",
        "  source = folder + filename\n",
        "  destination = folder + \"Y_\" + str(count) + \".jpg\"\n",
        "  os.rename(source, destination)\n",
        "  count += 1\n",
        "print(\"All files are renamed in the yes dir.\")"
      ],
      "metadata": {
        "colab": {
          "base_uri": "https://localhost:8080/"
        },
        "id": "wA76I7IaeTu1",
        "outputId": "03e19078-17d5-4bf5-be8e-2b53aefbbe33"
      },
      "execution_count": 7,
      "outputs": [
        {
          "output_type": "stream",
          "name": "stdout",
          "text": [
            "All files are renamed in the yes dir.\n"
          ]
        }
      ]
    },
    {
      "cell_type": "code",
      "source": [
        "folder = '/content/train/brain_tumor_dataset/no/'\n",
        "count = 1\n",
        "\n",
        "for filename in os.listdir(folder):\n",
        "  source = folder + filename\n",
        "  destination = folder + \"N_\" + str(count) + \".jpg\"\n",
        "  os.rename(source, destination)\n",
        "  count += 1\n",
        "print(\"All files are renamed in the no dir.\")"
      ],
      "metadata": {
        "colab": {
          "base_uri": "https://localhost:8080/"
        },
        "id": "sMg5oJkHeTcO",
        "outputId": "d7036480-7b49-4921-a1fb-f8a6edef7a47"
      },
      "execution_count": 8,
      "outputs": [
        {
          "output_type": "stream",
          "name": "stdout",
          "text": [
            "All files are renamed in the no dir.\n"
          ]
        }
      ]
    },
    {
      "cell_type": "markdown",
      "source": [
        "**EDA**"
      ],
      "metadata": {
        "id": "7hr-hGQnNi5f"
      }
    },
    {
      "cell_type": "code",
      "source": [
        "listyes = os.listdir('/content/train/brain_tumor_dataset/yes/')\n",
        "number_files_yes = len(listyes)\n",
        "print(number_files_yes)\n",
        "\n",
        "listno = os.listdir('/content/train/brain_tumor_dataset/no/')\n",
        "number_files_no = len(listno)\n",
        "print(number_files_no)"
      ],
      "metadata": {
        "id": "wwOSquqSNwZN",
        "colab": {
          "base_uri": "https://localhost:8080/"
        },
        "outputId": "65f23661-00a7-4661-aba7-6b6f58fbdb72"
      },
      "execution_count": 9,
      "outputs": [
        {
          "output_type": "stream",
          "name": "stdout",
          "text": [
            "155\n",
            "98\n"
          ]
        }
      ]
    },
    {
      "cell_type": "code",
      "source": [
        "#PLOT"
      ],
      "metadata": {
        "id": "-_yM9xizbF81"
      },
      "execution_count": 10,
      "outputs": []
    },
    {
      "cell_type": "code",
      "source": [
        "data = {'tumorous': number_files_yes, 'non-tumorous': number_files_no}\n",
        "\n",
        "typex = data.keys()\n",
        "values = data.values()\n",
        "\n",
        "fig = plt.figure(figsize = (10,5))\n",
        "plt.bar(typex, values)\n",
        "\n",
        "plt.xlabel(\"Data\")\n",
        "plt.ylabel(\"No of Brain Tumor Images\")\n",
        "plt.title(\"Count of Brain Tumor Images\")\n",
        "plt.show()"
      ],
      "metadata": {
        "colab": {
          "base_uri": "https://localhost:8080/",
          "height": 366
        },
        "id": "QaN4RHi2bJCa",
        "outputId": "1a2cc2e3-1641-4362-d0d3-1c6947a099f8"
      },
      "execution_count": 11,
      "outputs": [
        {
          "output_type": "display_data",
          "data": {
            "text/plain": [
              "<Figure size 1000x500 with 1 Axes>"
            ],
            "image/png": "[encoded data removed]"
          },
          "metadata": {}
        }
      ]
    },
    {
      "cell_type": "markdown",
      "source": [
        "**Data Augmentation**"
      ],
      "metadata": {
        "id": "KiKRAyZuNxME"
      }
    },
    {
      "cell_type": "code",
      "source": [
        "import tensorflow as tf\n",
        "from tensorflow.keras.preprocessing.image import ImageDataGenerator\n",
        "from tensorflow.keras.models import Model\n",
        "from tensorflow.keras.layers import Flatten, Dense, Dropout\n",
        "from tensorflow.keras.applications.vgg19 import VGG19\n",
        "from tensorflow.keras.optimizers import SGD, Adam\n",
        "from tensorflow.keras.callbacks import ModelCheckpoint, EarlyStopping, ReduceLROnPlateau\n"
      ],
      "metadata": {
        "id": "rSE99tLFN0Pp"
      },
      "execution_count": 12,
      "outputs": []
    },
    {
      "cell_type": "code",
      "source": [
        "def timing(sec_elapsed):\n",
        "  h = int(sec_elapsed / (60 * 60))\n",
        "  m = int((sec_elapsed % (60 * 60) / 60))\n",
        "  s = sec_elapsed % 60\n",
        "\n",
        "  return f\"{h}:{m}:{s}\""
      ],
      "metadata": {
        "id": "RxlHRoTjbY4B"
      },
      "execution_count": 22,
      "outputs": []
    },
    {
      "cell_type": "code",
      "source": [
        "def augmented_data(file_dir, n_genarated_samples, save_to_dir):\n",
        "  data_gen = ImageDataGenerator(rotation_range=15,\n",
        "                                width_shift_range=0.1,\n",
        "                                height_shift_range=0.1,\n",
        "                                shear_range=0.1,\n",
        "                                brightness_range=(0.3, 1.0),\n",
        "                                horizontal_flip=True,\n",
        "                                vertical_flip=True,\n",
        "                                fill_mode='nearest')\n",
        "  for filename in os.listdir(file_dir):\n",
        "    image = cv2.imread(file_dir + '/' + filename)\n",
        "    image = image.reshape((1,) + image.shape)\n",
        "    save_prefix = 'aug_' + filename[:-4]\n",
        "    i=0\n",
        "    for batch in data_gen.flow(x = image, batch_size = 1, save_to_dir = save_to_dir, save_prefix = save_prefix, save_format = 'jpg'):\n",
        "      i += 1\n",
        "      if i>n_genarated_samples:\n",
        "        break\n"
      ],
      "metadata": {
        "id": "8EWYklMwcYGa"
      },
      "execution_count": 17,
      "outputs": []
    },
    {
      "cell_type": "code",
      "source": [
        "def augmented_data(file_dir, n_genarated_samples, save_to_dir):\n",
        "  data_gen = ImageDataGenerator(rotation_range=15,\n",
        "                                width_shift_range=0.1,\n",
        "                                height_shift_range=0.1,\n",
        "                                shear_range=0.1,\n",
        "                                brightness_range=(0.3, 1.0),\n",
        "                                horizontal_flip=True,\n",
        "                                vertical_flip=True,\n",
        "                                fill_mode='nearest')\n",
        "  for filename in os.listdir(file_dir):\n",
        "    image = cv2.imread(file_dir + '/' + filename)\n",
        "    # Call the reshape method with the correct dimensions. Assuming you want to add a dimension at the beginning:\n",
        "    image = image.reshape((1,) + image.shape)\n",
        "    save_prefix = 'aug_' + filename[:-4]\n",
        "    i=0\n",
        "    for batch in data_gen.flow(x = image, batch_size = 1, save_to_dir = save_to_dir, save_prefix = save_prefix, save_format = 'jpg'):\n",
        "      i += 1\n",
        "      if i>n_genarated_samples:\n",
        "        break"
      ],
      "metadata": {
        "id": "MrJGfPU7i-Je"
      },
      "execution_count": 20,
      "outputs": []
    },
    {
      "cell_type": "code",
      "source": [
        "import time\n",
        "start_time = time.time()\n",
        "\n",
        "yes_path = '/content/train/brain_tumor_dataset/yes'\n",
        "no_path = '/content/train/brain_tumor_dataset/no'\n",
        "\n",
        "augmented_data_path = '/content/train/augmented_data/'\n",
        "\n",
        "augmented_data(file_dir = yes_path, n_genarated_samples=6, save_to_dir=augmented_data_path + 'yes')\n",
        "augmented_data(file_dir = no_path, n_genarated_samples=9, save_to_dir=augmented_data_path + 'no')\n",
        "\n",
        "end_time = time.time()\n",
        "execution_time = end_time + start_time\n",
        "print(timing(execution_time))"
      ],
      "metadata": {
        "colab": {
          "base_uri": "https://localhost:8080/"
        },
        "id": "DV3ZzGWQf55y",
        "outputId": "22c43e0f-871f-40fc-e405-cdb67e56daf1"
      },
      "execution_count": 23,
      "outputs": [
        {
          "output_type": "stream",
          "name": "stdout",
          "text": [
            "959578:5:26.16070795059204\n"
          ]
        }
      ]
    },
    {
      "cell_type": "code",
      "source": [
        "def data_summary(main_path):\n",
        "  yes_path = '/content/train/augmented_data/yes'\n",
        "  no_path = '/content/train/augmented_data/no'\n",
        "\n",
        "  n_pos = len(os.listdir(yes_path))\n",
        "  n_neg = len(os.listdir(no_path))\n",
        "\n",
        "  n = n_pos + n_neg\n",
        "\n",
        "  pos_per = (n_pos*100)/n\n",
        "  neg_per = (n_neg*100)/n\n",
        "\n",
        "  print(f\"Number of sample{n}\")\n",
        "  print(f\"{n_pos} Percentage of Positive:{pos_per}\")\n",
        "  print(f\"{n_neg} Percentage of Negative:{neg_per}\")"
      ],
      "metadata": {
        "id": "MZ72VCZbkPuK"
      },
      "execution_count": 26,
      "outputs": []
    },
    {
      "cell_type": "code",
      "source": [
        "data_summary(augmented_data_path)"
      ],
      "metadata": {
        "colab": {
          "base_uri": "https://localhost:8080/"
        },
        "id": "cYpxKz4Yuu-5",
        "outputId": "f6cf7f8e-535a-4b1c-e2a0-19b1ea6e29d2"
      },
      "execution_count": 27,
      "outputs": [
        {
          "output_type": "stream",
          "name": "stdout",
          "text": [
            "Number of sample4125\n",
            "2169 Percentage of Positive:52.58181818181818\n",
            "1956 Percentage of Negative:47.41818181818182\n"
          ]
        }
      ]
    },
    {
      "cell_type": "code",
      "source": [
        "listyes = os.listdir('/content/train/augmented_data/yes/')\n",
        "number_files_yes = len(listyes)\n",
        "print(number_files_yes)\n",
        "\n",
        "listno = os.listdir('/content/train/augmented_data/no/')\n",
        "number_files_no = len(listno)\n",
        "print(number_files_no)"
      ],
      "metadata": {
        "colab": {
          "base_uri": "https://localhost:8080/"
        },
        "id": "3M8oV-ltyHXo",
        "outputId": "7455f963-a416-4a84-ae95-1f0d1803d1a0"
      },
      "execution_count": 32,
      "outputs": [
        {
          "output_type": "stream",
          "name": "stdout",
          "text": [
            "2169\n",
            "1956\n"
          ]
        }
      ]
    },
    {
      "cell_type": "code",
      "source": [
        "data = {'tumorous': number_files_yes, 'non-tumorous': number_files_no}\n",
        "\n",
        "typex = data.keys()\n",
        "values = data.values()\n",
        "\n",
        "fig = plt.figure(figsize = (10,5))\n",
        "plt.bar(typex, values)\n",
        "\n",
        "plt.xlabel(\"Data\")\n",
        "plt.ylabel(\"No of Brain Tumor Images\")\n",
        "plt.title(\"Count of Brain Tumor Images\")\n",
        "plt.show()"
      ],
      "metadata": {
        "colab": {
          "base_uri": "https://localhost:8080/",
          "height": 363
        },
        "id": "hxWFDLu60l3M",
        "outputId": "897f4694-c68c-48c8-f8e4-a6f283d6e71e"
      },
      "execution_count": 33,
      "outputs": [
        {
          "output_type": "display_data",
          "data": {
            "text/plain": [
              "<Figure size 1000x500 with 1 Axes>"
            ],
            "image/png": "[encoded data removed]"
          },
          "metadata": {}
        }
      ]
    },
    {
      "cell_type": "markdown",
      "source": [
        "**Data Preprocessing**"
      ],
      "metadata": {
        "id": "Q5BsmbL0N-mn"
      }
    },
    {
      "cell_type": "code",
      "source": [
        "# convert BGR to GRAY\n",
        "# GauaainBlur\n",
        "# Threshold - The threshold value is set to 45, meaning pixels with\n",
        "#            intensities above 45 will be set to 255 (white), and pixels\n",
        "#            below 45 will be set to 0 (black).\n",
        "# Erode - Erosion removes pixels along the boundaries of objects,\n",
        "#         making them smaller.\n",
        "# Dilate - Dilation adds pixels to the boundaries of objects,\n",
        "#          making them larger.\n",
        "# Find Contours"
      ],
      "metadata": {
        "id": "Rs_4u9oPOCj9"
      },
      "execution_count": 34,
      "outputs": []
    },
    {
      "cell_type": "code",
      "source": [
        "!pip install opencv-python\n",
        "!pip install matplotlib\n",
        "\n",
        "import cv2\n",
        "import imutils\n",
        "from matplotlib import pyplot as plt\n",
        "import numpy as np # Added import for NumPy\n",
        "\n",
        "\n",
        "def crop_brain_tumor(image, plot=False):\n",
        "  gray = cv2.cvtColor(image, cv2.COLOR_BGR2GRAY)\n",
        "  gray = cv2.GaussianBlur(gray, (5,5), 0)\n",
        "\n",
        "  thres = cv2.threshold(gray, 45, 255, cv2.THRESH_BINARY)[1]\n",
        "  thres = cv2.erode(thres, None, iterations=2)\n",
        "  thres = cv2.dilate(thres, None, iterations=2)\n",
        "\n",
        "  cnts = cv2.findContours(thres.copy(), cv2.RETR_EXTERNAL, cv2.CHAIN_APPROX_SIMPLE)\n",
        "  cnts = imutils.grab_contours(cnts)\n",
        "  c = max(cnts, key = cv2.contourArea)\n",
        "\n",
        "  # Corrected the slicing of the NumPy array\n",
        "  extLeft = tuple(c[c[:,:,0].argmin()][0])\n",
        "  extRight = tuple(c[c[:,:,0].argmax()][0])\n",
        "  extTop = tuple(c[c[:,:,1].argmin()][0])\n",
        "  extBot = tuple(c[c[:,:,1].argmax()][0])\n",
        "\n",
        "  # Changed img to image\n",
        "  new_image = image[extTop[1]:extBot[1], extLeft[0]:extRight[0]]\n",
        "\n",
        "  if plot:\n",
        "    plt.figure()\n",
        "    plt.subplot(1, 2, 1)\n",
        "    plt.imshow(image)\n",
        "\n",
        "    plt.tick_params(axis='both', which='both',\n",
        "                    top=False, bottom=False, left=False, right=False,\n",
        "                     labelbottom=False, labeltop=False, labelleft=False, labelright=False)\n",
        "    plt.title('Original Image')\n",
        "\n",
        "    plt.subplot(1, 2, 2)\n",
        "    plt.imshow(new_image)\n",
        "\n",
        "    plt.tick_params(axis='both', which='both',\n",
        "                    top=False, bottom=False, left=False, right=False,\n",
        "                     labelbottom=False, labeltop=False, labelleft=False, labelright=False)\n",
        "    plt.title('Croped Image')\n",
        "    plt.show()\n",
        "  return new_image"
      ],
      "metadata": {
        "colab": {
          "base_uri": "https://localhost:8080/"
        },
        "id": "bw83ePIWO6tl",
        "outputId": "144e9934-b66f-421d-a90d-b44816b3dffd"
      },
      "execution_count": 41,
      "outputs": [
        {
          "output_type": "stream",
          "name": "stdout",
          "text": [
            "Requirement already satisfied: opencv-python in /usr/local/lib/python3.10/dist-packages (4.10.0.84)\n",
            "Requirement already satisfied: numpy>=1.21.2 in /usr/local/lib/python3.10/dist-packages (from opencv-python) (1.26.4)\n",
            "Requirement already satisfied: matplotlib in /usr/local/lib/python3.10/dist-packages (3.7.1)\n",
            "Requirement already satisfied: contourpy>=1.0.1 in /usr/local/lib/python3.10/dist-packages (from matplotlib) (1.3.0)\n",
            "Requirement already satisfied: cycler>=0.10 in /usr/local/lib/python3.10/dist-packages (from matplotlib) (0.12.1)\n",
            "Requirement already satisfied: fonttools>=4.22.0 in /usr/local/lib/python3.10/dist-packages (from matplotlib) (4.53.1)\n",
            "Requirement already satisfied: kiwisolver>=1.0.1 in /usr/local/lib/python3.10/dist-packages (from matplotlib) (1.4.7)\n",
            "Requirement already satisfied: numpy>=1.20 in /usr/local/lib/python3.10/dist-packages (from matplotlib) (1.26.4)\n",
            "Requirement already satisfied: packaging>=20.0 in /usr/local/lib/python3.10/dist-packages (from matplotlib) (24.1)\n",
            "Requirement already satisfied: pillow>=6.2.0 in /usr/local/lib/python3.10/dist-packages (from matplotlib) (10.4.0)\n",
            "Requirement already satisfied: pyparsing>=2.3.1 in /usr/local/lib/python3.10/dist-packages (from matplotlib) (3.1.4)\n",
            "Requirement already satisfied: python-dateutil>=2.7 in /usr/local/lib/python3.10/dist-packages (from matplotlib) (2.8.2)\n",
            "Requirement already satisfied: six>=1.5 in /usr/local/lib/python3.10/dist-packages (from python-dateutil>=2.7->matplotlib) (1.16.0)\n"
          ]
        }
      ]
    },
    {
      "cell_type": "code",
      "source": [
        "img = cv2.imread('/content/train/augmented_data/yes/aug_Y_100_0_1098.jpg')\n",
        "crop_brain_tumor(img, True)"
      ],
      "metadata": {
        "colab": {
          "base_uri": "https://localhost:8080/",
          "height": 506
        },
        "id": "N9eeu9dPNbYM",
        "outputId": "c8e686de-e107-46a8-eff4-9679d593abc2"
      },
      "execution_count": 42,
      "outputs": [
        {
          "output_type": "display_data",
          "data": {
            "text/plain": [
              "<Figure size 640x480 with 2 Axes>"
            ],
            "image/png": "[encoded data removed]"
          },
          "metadata": {}
        },
        {
          "output_type": "execute_result",
          "data": {
            "text/plain": [
              "array([[[34, 34, 34],\n",
              "        [29, 29, 29],\n",
              "        [26, 26, 26],\n",
              "        ...,\n",
              "        [ 0,  0,  0],\n",
              "        [ 5,  5,  5],\n",
              "        [11, 11, 11]],\n",
              "\n",
              "       [[33, 33, 33],\n",
              "        [29, 29, 29],\n",
              "        [26, 26, 26],\n",
              "        ...,\n",
              "        [ 0,  0,  0],\n",
              "        [ 3,  3,  3],\n",
              "        [ 4,  4,  4]],\n",
              "\n",
              "       [[32, 32, 32],\n",
              "        [28, 28, 28],\n",
              "        [26, 26, 26],\n",
              "        ...,\n",
              "        [ 0,  0,  0],\n",
              "        [ 2,  2,  2],\n",
              "        [ 0,  0,  0]],\n",
              "\n",
              "       ...,\n",
              "\n",
              "       [[38, 38, 38],\n",
              "        [49, 49, 49],\n",
              "        [62, 62, 62],\n",
              "        ...,\n",
              "        [29, 29, 29],\n",
              "        [31, 31, 31],\n",
              "        [33, 33, 33]],\n",
              "\n",
              "       [[32, 32, 32],\n",
              "        [42, 42, 42],\n",
              "        [54, 54, 54],\n",
              "        ...,\n",
              "        [29, 29, 29],\n",
              "        [33, 33, 33],\n",
              "        [37, 37, 37]],\n",
              "\n",
              "       [[22, 22, 22],\n",
              "        [32, 32, 32],\n",
              "        [44, 44, 44],\n",
              "        ...,\n",
              "        [29, 29, 29],\n",
              "        [35, 35, 35],\n",
              "        [40, 40, 40]]], dtype=uint8)"
            ],
            "text/html": [
              "<style>\n",
              "      .ndarray_repr .ndarray_raw_data {\n",
              "        display: none;\n",
              "      }\n",
              "      .ndarray_repr.show_array .ndarray_raw_data {\n",
              "        display: block;\n",
              "      }\n",
              "      .ndarray_repr.show_array .ndarray_image_preview {\n",
              "        display: none;\n",
              "      }\n",
              "      </style>\n",
              "      <div id=\"id-c5ea381d-1a17-4a12-b358-72f673ec8f04\" class=\"ndarray_repr\"><pre>ndarray (160, 144, 3) <button style=\"padding: 0 2px;\">show data</button></pre><img src=\"data:image/png;base64,iVBORw0KGgoAAAANSUhEUgAAAJAAAACgCAIAAABsXnJCAABNyUlEQVR4nKWd2XbjSHa1IwCQlERJqSGHKne5u+2bfv/H8Vq+6q4hB02kSIkkhvgvvjw7N8Cscvk3LnIpJRIIxJn3GSL/53/+Z9u2fd+XUlJKKaWu60opdV2nlIZhqKqqaZr5fD6bzRaLxWw2a5qmruu6rquqyjmXUvhuzpmvDMNwfn7e933Xddw856yv9H1/OBwOh0Pbtm3bHg6HrutSSny+67phGHLO8/l8sVjknBeLxWKxSCnt9/vdbte2bSkl5zybzaqqGoaB/w7D0HVd3/csj4XxsaZpuq6rqooFlFKGYej7fhiG2WzGglNK/DWlVEppmibnXFUV3+LnlNLhcODObdvy6MPhsN/vWTMXX2EZrLDve+0PT99sNmwCj9YN0+9fs9lsPp83ohNf46bHV4lLHxCdWAFrZVlVVR0Oh1IKC4WuvHzf9xBJBIOivBgf5m0Xi8V8Pj85OZnNZnVdQ069M5wBmXkov+TDbDe/h2AnJyf6DStnu/u+hzX1m6ZpxJGz2UwMyguyhrZt9/u9s1rbtmzL8QbCrNor3nE+n/NE7sBzxaxOXX/f/X7faN+PKeTP5mUma9KN9BheLKW03+/14SqulBLU2u/3+/2+bVtkAjkW4efz+dnZ2enp6Xw+l0xAV4ngfD7XMoZhkHCwv03T8K2qqrTj3F8v0jSNvgsNYDJ4ZblcolfgG72XpOrl5QWawSIvLy++k7CC1qm3Y1dFDN5IQqa/wuJiI/217/uGu7i4HP/rpNLlcuYSxsPE+JNX7fsefuTSDmoZVVUtFovLy8vz8/OmadA2vBj3hDYSI2ljyUTTNGhLFiOJETs7G+33e/HTYrGo6/r09HSxWJycnHA3bIH0Pwq5bVvWdjgc9AHeCzqVUmRZ+C7r0a7qZxHMd1if17bwy2EYGhcd/iA6yQy4hE50o/Osy5/fh49BKhkPfYuVyc7N5/Pz8/Orq6vlcsnq2QU+CT24P2KUUkJNsaEQUn/iN3wROXbFq8+go05PT8/OzrDT2Dxo/9V4NE1VVa+vr+gJ5G+/38tetm1bVRUEgDn4l6VCOYkU6zkcDnCSGP33zBh7Xtd1MxGjCf0ncsbzYHOeoS+6pPMncYc4DkUvHpxIKvpnuVy+e/fu3bt3s9nscDjgZUjCRACcEXbhcDjoheu4xNFcIjn7q5tcXV1JQ6L9+D1Cg5/FxW9eX1+xZK9xsQnYQu4MwUQe3hS92vf9brc7HA6y61ohX0lmTSfqDUvfHJP02KqVMI+SU9hc5HE96fInbTnEhd2Cy/wpVVWdnp6+efPm+vr6hx9+uL6+7rputVpBZpl3WJ5/0VrupOm15Z5pkZIYOW8s+Pz8XD/7dXFxwSNOT09PTk4Qr5zzcrnEdXp9fX15edlut9wz54x2FXtBRekbHCi88bZtcziTTjPtvL44kaJSSjORqmPiaSPgLN9i90qcYL5Tk+e5o+EPQhleXFzc3Nzc3NxcXl5uNhsoLZGt63qxWOCMpJROT0+bpjkcDk3T8IalFFhe/KunoCrn87mUG59frVZQBRZkGajl+Xy+XC7Pzs5msxkr6fseQSmlSOx492MmhmxaCZ5q3/fQlVfA7EFaXnC32x2rupTSbDaD2A0fFZ1RLyKyPBytWKEJn+ENoSWSznbokzIzfL2Ev+c6vZSCeL179+7m5mY+nx8OBxQO4pVSOj8/XywW8tzkZ0MJuTCXl5ciMCSRt3Z6erpcLjEe+Khw4fPz83q9Pjs7u7y8PD09vbi44OeTk5PFYuG0F5+hD1CSmJYSAZncdMiPZuJPi8WimK+ot5CfzNow9k4tDDk/NxPRk1lytea/T0d2TuTE6k6Ez40fS9H9eXle+/b29vr6+vLykrfa7XabzWa73ZYIfvHcsP/aR54rFefxkKtcPiDdhZqVDyK1gUhdXl6enZ0tl0vcP+kuXjAbUIDZu7i4wGPcbrcnJyco/BL+4W63gz82mw3bCP8hkWjds7OzHA72RPf440YEk7PvBCtjp0Nf1vfdgUTY+Yz0hvwlwmRophuyZVDi3bt319fXuPJt2242m81mg0uG0To7O8OF0z6KMISxk8CTN88ROJ+fnxPbsX0pPH60Ql3XbNzFxcXl5eVyuTw/P1dAAqX1gg7HwDonJydY2dfXVzABMSIrAdwRPiBNiEHFKVXQInLIf3Zpa/TnHO6/s7+TR7/3X0rpibvldku2BG3IZZK+4p3Pz8/ReKWU/X7/8vICcpMCFDg9PeUzAj5cTLuugyrsAq/AtrKbi8XizZs3iBdcwsax6ZDq6uqK+2Mmz8/P9ZoCt/QV/Qmq55zfvHkzDAMeoFwGiSaLgWzc5OXlpes6bgs3iwPYMe1/Gl+NHsxG5ADlnLY5gqpJlJ0sepCFk6bSbsrNc3sp5hX+1Pc9dHp5edntdn3f80u27+LiYrlcYjn8iegW9E/btvjlUsIQ7OTk5OLiom1bjKJ0ODyBGkS+BZl63Orhhzjb9c0wDGdnZzKNOeeXlxcetNvtIBsOrUyD4mXUA9/y0LCY7zYiGI+fzWYonJRS13W73W6/35cAA53UHvPKJZGWUFSvGBmCuTJMFrdikPC1sNhiUlaF/GFX0GlN04gecs+44DPnGB4xm80uLi4ktSkiSG5yenqK/3lycsKH5XZq7xQ7yuEq4QrymnVdn52dEY3MZjN4Dkrow4NBNto3ULoSaLso5wTDO/tKMFZwenqK7iaeeH5+LgEjuUqcKEneR1CTqzu0n3weIVUKYOXvYZagltQmzudsNkO25LMRe6F8UgQbGCrE0b0e/xcysABBzyxGz4VFWDxgxHEkO47WvioJ9gSmv76+XiwW6ImXlxfJELzCJ2Fonj4xMbDObDZr23a73QqSHUkYe4fXi5csyqejWGpy8TJK0LgvIKdjMJxQQImLF94Um8jmCnV98+bN5eXlxcUF4RGuMNpMvqjQRSeYg43DMLy+vrJrr6+v6/V6v9+zXxcXF1JlUpX7/R52qY4AvQnLyocUvdEBfd8jr03TvLy8rFar7Xarr8h7TGMkvZQCPIYXA2+5nkspNfiyy+VSul4ROxYS6VksFjIbaDmEWqAnsl8FJC8mgk68A0rg9PQU+ICItZTy9PSkIFceIC9PSITLoNCN9aQITt1pIiDNgVGVUuCDw+Hw+Ph4d3e33W7x5YCYsYtv3rzBxoC+p4DSs4HLxRwx52DYhWVgMnE+ET62frlcPj4+Pj4+6rbL5ZLUGneGgSD5crn84YcfJP3SXmx4I3ZmB7G35+fnaGH3MsqRu5gDmZWbC1EnsYELmUPgctXQ+65y5WXN7MJQcf/NZoOx5J3lBUAkbYTYa71ebzYbXspThbyy8CoBInKmXHPIzSnhqUnKkWZXlRJ0OEC3SikdDoeTk5NkKb0+Mke4Wjc3N/Jinp6eEAD084hgcHSJZJqbJRdef7yiCgUZE2U4cSx5lpw9ISDJADT9XqKjlDeGKqX08vKiLU6Wh3OFXCJxtdvtPn36tFqtNpsNNlJQb21588EyCbVlhbQwfyPxLv8KeZFPiNhBAKVAU0S0Wq0SC9vtllCvbdvT09Mff/yxbdv7+/v1es2CIXyTA91hO5DoxWKBKe4DIFfuSk8VoKKgT689eXlX1rJbVcD5/Ak/Pkd+AUSA7b64uNCKkTDJR7Zwhx1RoIP6fX19JQBfrVbAdLwmzidIbh0ZGXkl4mhFbGIFxcLcX1Qkg+w0kwWVki/hx3GrPmoUoETf96BxDw8PX758ubq6UpCXLM8wyoXP7SJqUToHL042KY1BKX45IVgx3Ewyiv5BO/eGNzpW5MaSxG6KiM2dbGd23Wcw1xl6QzA5O5M8svLL2DMewXdFSFHFzYH+K63uusRfX8YMGvd9j0WXstUdqqp6eXm5u7v77//+7xQgzkR5NKITHrZYY7lcXl1dwfWz2UygCypFDO5mWUq/D8BQqlx76si3c64ES7JSIu7mraQTKkvdauOktcTIKkRg2TJmu90OpwD9c3t7K78UuRduhNCIALI0E8PGB/iK3lqf1/40TQMwllJaLBbKdLPaxWJxdnaGt/n6+vrzzz+XUk5OTvb7PbIkw/FVwqQTxKrAmnJ+XDxRjDL40sslspSCjlKEqKKEwBRpf6/ZylbO4MZDlxS4f4xdGMLrETrulSNyxna7Ha6mZ6XlPmija0v5i00l3B6eDlG6o1cu5mclCwPYVfTwzc0N8QyLRMmhgYhAvnz5AgDE2hTyN8m8CScDuuLs7MyVoQfITi0XFOk6/bKysi8nAD8T85UxuDyEL1NZlqSPrK67Z9oXJ5hKfQQ6n56eppRAk1PEDBcXF0KTpf0m74JQyvAolHafaxgGDG0awwsubdoxaHNxcZHCjBFsVZFPAAvml84BSQlMSQ9kJEYB/ugDZsbbQXkCXLJxXZSe+cZ1XaeqpmEY0OCyQES+Uold1C4SnKGI2GKQF+4sXQ0IUlmV1TAMWClemy3Y7XaKTGaz2W63w+kAkr+9vb26usIxJnQjbS3eIv7FivAK2LyUEhzAywphAMgXxw9RccT+yF7A8YQxy+WSvULouTl7/vz8jJzo6wpkGxgZXeGsAdOJcbRKdhkqFoM2ZGOhh+QArtGC5E9KntAetRVx+m2zxTQoMU9KuThKewsK4tUAeNCHbdsSeClZI/jfrxyZBJ4IyeES4gpZssPhsN1u6yhzc9rIISxH8av2BzUGlMWHJRVyW+ood/hqCxH57XaLhO12O2GgYEIsGlYSDUA2caWEKbgeEF/kwPGqyFxL5xQrzAMkTOOrmGFns3j65P25iRx6lCG8vNvt1uu1GDbn/ObNGzxGd76llonfc6SDKT+tA9jkXRQ7932/2+3m8zm70UdaxLXiYCGNJAwzXwWUpeK4lBKIEuLBv3LoYaMG3xdfloKIi4sLorGcM2qK3AT5X/ZOJkTWeKKs3SJ6cOqyKIOXLN1XLAwYLAZPAQJNSC5rJ8xF1mu32z0/PwNwrNfrnDMo88vLC3mWk5MTqVCeK/+LJBn7gNWpAr7Ru+jtTk9PPeaTmU+BvrNa911J/lWR7VN5gaRZ6T14i1x227ZfU67cTvgQuiWlBPxKmDkMg/g0R/SQorKjO6rPyVEKkc39LQaC9FHQUY+Lq8UQZYyYDJY8FM+KEz3P1HXddrtFtrC46BngN/aR5+LXwMXU3sCvy+USZaX1iDPcS4QJ0JagZYNBP8lcxGTNA9orMaLQENxXhcJDRD54f6WUr8C8vAMeXErB5CKMFxcXvA8ISI4AnpUJiRHB4DstaGJvBott8SflRCRz3LN5/3IUk7lh8uAVIEpTgcojW+zOmzdvIJjIoO9iz4g7r66urq+voZYMmPhSfCyvXVrk7OwsBQJC/CvmLuZFax/Yfb0Oql7GRTVxuIF91CzlnBtxhFy49XrNa/RRZSC1JkEupWDAHNlUcsThjGGcNi0R7Su+rgJid2LL8qdxFQJvW4+rkeRipHDbdrtd13VN0wCNllIuLy/hOZX39n2/2WxANa+urt6/f//mzZuLi4s3b94Qw8qvE9OksM36q9QJjEslyMnJCZVYr6+vuHLJcCkpA5Fc2hgzCc3ks6DtFQs2YhZZIEyoFvf8/EwKBkvD+ytCcrhoPp93XSfUR1reCSYJ03PdjzhWifpvGkegElM5ykNkD1QGc3Z2JiiBOAwjTzlbVVX7/f7m5ubNmzfv37//4YcfqOnAdHVRrSZ3YIggRDSTG1VFjT7vTsYD9tpsNnpxrRYmEMGcTaso/+I+IhWx4DAM38ALCKiFErXIn+n7nqoKlAlpHj7jUtJbqaUYJ1lALWuEoFSRnsYFYOmnp6esynP2olk2dLXv++12yyIxsWyivHAtA3dLiYI6CkZ/+umnn3766d/+7d8wXTx6u92K1ebzeR8F6vh1UmvZ8LMcVbaINV/HcXh6esIJF7hM0CZ7L1sI8MHuIYjcHJ0Bx4yKVYu50X2U+MgdYAd7686TtpTiktZW/FvMy89RgCb3N0dfHtuHHk/mHybzNou5y8pjpYgR9SKKr7Pl57gzTsd8Pj87O3v79u319fWHDx+ur6/Pzs4Ed6GaigVPriGqcapPSxJLfbU0UeeL0yj7p33Qgl2XaNlKAbZtK1PK55vJRohgArzhCDCei4sLfbmua0yalAafHKLaUNZusML3IeJNfumb69QSElbFpd1nJTOrKP2KijYNfpCSRNwhWaODwuTz8/O3b9/+5S9/+fDhg4pZxLLIrnPwHxBsCKBdxODFwUqgltL32mexsr44WNKDt8OMwcrYwrqup0Fo9T2MTsmwtm2V9IMqMyuC7Lqujvoe9FsVzQG6j1xeaTY90YVb/oWoKBKCjZZoCUH1QX4Uo7zkIaAmNCFcr1IRrNft7S1KUk8UO5Zx2MtVR3OKtli4XxXZ1CFqHZqmuby8pIpZmrOyuiv9UhsuTVtF0RhwzG6347vfCDZEaj8bLJSj84kv9FFbIrCxrmsBrCkc0KqqcHNLgHs53GhFIeyj6OGGV4G9+n8UexwOB5z1WbRwsS/yEsVz3EfFRbiFdV0vl8vb29t3797RI0MOzMmQI2HoKidHLC9Typr7yLpBIdVm6RJAigsNKsYb8VIT065HSwPhetQqQ85jjNxDDekiWF7hmisZojzc6z4KSTESKVqaUjgdKEwRzHPnVXTPwQ3IFj0/0AkUht3BcR0ir6GfxS4sjxtSYjQMA3DfycnJ+/fv//rXv757947OFAWRUipiYqeW/J0yzjq+vr6CASmnVUeLw8SPZ7XIuqoWxce9dVq4VWNPQLC6rhupxGQhYYn+CxdeDEMKfwmomz+9vLyISXGO2ejJHYpVI2VDreT4KWXOKtFsuH/K46kgDovFvrPmygrlIQZ6G3qfnp6+f//+b3/7208//cQKWZ4IIx3YW9UzlyMD4m+A5peXl8PhQKgwi0py7Nbnz5+/fPlyd3cHJK9IHBOVLYGnyEQqR5pGyc/D4dD4IpKF4pIkUdF3WTtLfIPlUKoQJZACIZSe8YBGGiBbEk5XsoCMfZG2YZEgajyXrc/mKGO06qiggrtPTk7evn3717/+9e9///vt7S0uHMrQmVUL8EuyVcx7HAIuQFEjZPg7KKTX19dPnz59+vTp8+fPh8MBi6tFSrtKFnkdOYS+M/P5/PX1tZAPm6xMfrAcMLags7L9qqowBjgXiNfFxQWVBPAyrL3dbgH0iCRUsJcDBVchOxdKBqwItSZ9As52enq6Wq0Gy5TilM+i/Zlv9ZGLkgzt9/uzs7Mff/yR4tFSCspc+q1EuQpCrB1AL8ElJbK4Kbzi7XZLka/0fykFX+Pjx4+//vrrw8PD09MTARZqEzwdFmfrlBtyT0fAOvm8r1lWF68UVscNG7/H/LChndVuqr6ui0ScbDU0W6/Xj4+PWpbUC7res2VNFAdWVskkN7eJIiT+K7ygxOCBs7MzbKoUtcgMAU5PT29vb9kpgbBincEyA/JfFNgomJUxxgo8PT1tNpvdbkcGVa5Bzhl4zAFcbWk2WEs7IGkpR7FEMo9sqhL11DxOEsrkCuNqosA7Rx5Bb4UgUr/w+vr65cuXh4cHv0kTl1IJ6tGTushR/4sMofSHaPkq0UlQogIOzlVZcY4sImDj3d0dfC1VKdeAxyGUgoLgCZwd4XBYU3Qd1Lq7uwN6pUEtBSRfIpCVBZk4IL3VRAPppXEo7KTSbi8Wi1GPs77g9kzGpraujVk0bAv5lqVF9nE3lsslkA/cgddQ25XN/1aAAvCRLZZEAoDeoYHaQ9DvegV5MWxTMShgHrOQ5LCllEDX2FnSx9vtFkSUFOB2u1W2DL0Ko2w2m7u7u8+fP2+32yE6J6QSq0CEidZRoXubOSIdqGAAKh7bcq55DCGYeokTyRWFhiga7CPfSEwngFmqH9fDSaJ9n81mWDgxbB9dXF005Xniil2rolZ1tVrxzqDgaBsXa1Q0AQZMgLYhQoB1kBJcLzwRwcebzebh4WGz2fB1EjRUGMgc5kC6t9vt09PT4+MjPj0OvUwgL8tLwShSsw41uUqUdkljJE/cxnY1EyLJ7nlQUgzygFlYh7g4BUIo84aKI2zCE5HZy4Eoeu6UkHwW3bHn5+cyRTMr+FVgUEXjl+TPSZuiC0gWUVVAoHME/rwLSIRUHPn3pmnQe97mxebKqIPYoZaHKL4ogZi771pFzk+8Ln3gVtw9Z9dzIu18Ph8hHdKHvZXK8NdZ9HSg/ZVDESFBlFXd3Qfu+fDwQEmF0BBuop+HKGEYor5K4qgyCpSeACQ533qrIVI22j5HKQWhwiVKLBCDPz4+Iljr9Xq9Xvd9j/LQ6/SB1ms3hoA05cGiVJQFPDk5gedIQ0vzS2lXUVcj/9YJVo6uFAH11K0v1vjngomdHwwvQeEII6aODHWE1lqv11VVrVYr4kreXFp+sNygwjioLqwZthIzFYMe5KSI2CxbHTceg+/3ezLOVVRwYLEeHh4+ffp0d3d3f3+PPL2+vs5ms/PzcwSoiyZPEUxx4eF7bfZoIJekp6cnUUgqjni/in4tXQp73IEQweCGkZeov0nDJvMeuTtNhtfX19gD6U/cemw47kbXdTBvsYyUs6owjiZqqrDzCst4sS5mHkkylsvlJEAUhAp+hk+kUiJUInjH3d0dpWBQ6/Pnz6vVar1eYxF5C8+HpcgD8Oj1eo0DiTXFjQSGkIH30IVK3iHqfFAhXF1UoWsPFTgrJimRnGqjRWza1VTGkbxsoOK+8/Pzm5sbeu6rAHZLhDtDoBiIFL0IFDgIwdTl8VYxDKU2CF92i6+ItK4omihsmsUEMP+YTAsr3G63d3d3wzBsNpvVaqV81T6aMGXLxcpVQMwwXG31y4rVZjESx3dysPpDuA1RK9FmiBDrcXIdikGaKdqZeO4oN+/mQXfh8ZQDLxaL6+vr29tbJqDIMXGPQ7vTdd12u4VgXrGlC84FzkkpAQDSEjm3zi1eIxtOU8axp5u6HBnIeTTl8RS+3rbtarV6eHggTz0Mg8pDlbmGKgxOkh4mHpd9VbLt9PSU7gp2Y6L9SozL1GJS5BoxEzKTshFp7LHraqLtoRFPSb+5f+k/1HVNPTrjEUokGJM59NkCIHJXBPwpQr/BWisUDKK76I5VfVkdWU3PyGSDkYbIpMxiXNhXP8ogkiqQe1GUdNr9/f0wDNQlKoPTWqOjOEwujOIE5UJ5HUSH0FPRWG39JZOqJKRqs9ko8a/9x2o4wbJVIkGXZhiXxIin5F+KxYB6cX48XPB15EgcuwcxRLmc4rDaRnVxAYswr6axCo4yjjGqqIaTDRNWot2powhlsEISzfiiiHOIZCxhMuAFrRJi0GGcwgUBcVyGXBrlZUCgOYrGdO12O8rl8UekexUVTLSOPD7pNgn6V1GbeCMujCJeiioRkAuyHoJ2JGFK/KeUiGC2261aP6T3Rf5Z9IxIic1tLJG0xGBpXylGpAFUnu2rI4cg3d5GPwABLGLaRgcRVnmIYiaZACm9wXL2QyRBqNQACtE8KraeNB4vAls3TbNcLkuMMTjY7FwnCaTii5QCSBJSpOVkqprJnyf01DalqAdiIJpb1BS4tSra2xgCg0kfrGJXm16PG5CyYYxSxWinpmmcmXi9Ogp1GU8laRNCJkyvj5lKKOf9fk8ZExYL9ZBSEmrDSlSuogxqiUomFShgHYBFZtHIxX2YxJRSojxwCDyeXRrGoIQi4Kb5Rg53XkoE5omM8+TPE3OnP9VRGlYFBIwGEAO2UTLdxmBcJeWcJyZKwH8jXyiFM60v9jarIEebOv4xIJsASa1Nag1+Wq/XiPvT0xPhh+x8E/24qkABTIIAyWIexWR8HrGAnJCKChFN6+A+kmbBvu40yCpN9tx3bKQSFf3lwP1kb3PghLhJgHvPz8+wHvu72+3u7u7u7u7YUEW+++hNJv2I/uQFXl9fVXOYIyqoredA240DWazzXpRmklEdFasur/j3Ysy6rh8eHpCw3modHh4e5L/pZSHDdrtFdrnP2dkZhS1D5AJns5lKObCF8olU81PXNdMONPh5uVySA8NByzEvQbzbWNc9HxgMgcqUausT6XtjfPlZGmMIIIqIBPrRtQGw3TTNy8vLfD7fx2T3YgP/xSl91CoXq2GWY61N7K1rVosRg/eRpZWl0YuhDKCW7Pnz8zPSUI9nEvF0h45ubm6aKHqUvmqiM1EoMK45o3V4u4kkyY/FX8O7wR3TUisL0l1U/K313xHB8rhyQXFPClwE7kBKpLVJ4uHB4wGjNBzdwXtGd2XD6bsoPO2iUF6eiDStuM/fam6FvbU1v+ABpqjKcsgVtwgwXvfU+0rCEIWLi4sclV69lRIpDNCyafWUw+VRhx40n89Jc+N9gH0ka7CQ7XSmFMH0gZxz4wiFnGbXPMoaHA4HoNJSitD0w+Fwd3dHThlcVUUNDunKC+KtDjEUSWZ2sViwoTKNKVB8aUL3WitLTLBOnqJGenxaoVkwEATL1qOH5FWBNeOmkwstAfa7e5WOht6gyYV8SjOz2iqCd4pfuq5jJg+WoouOG33sWGBc4EYq0VVQNs+tivzFfr9frVZVxJgkRNbr9cePH798+cIgF1Dq+XxOTUAZT9p32KmPVqUU9QtyW8QuOQAXronvOosKX30MNch/MSTse9/3mmbKW7Rty5+GgL4UycFzx7KbrQZU/F3FuIU6Zqar9T+FyyP5mMXAWDpoyLRp51NkWwYbK5HNSx+pRFed+mg2txJbvdlsHEkjRYt4YVpvb29vbm66rsMxKTFcSouWPiF9LHCkG1+D1fQ78cR3Dvn0MYpB0XSOseP0/0APfr6/v//06RMFOX3fE/f0Vv2h+6RwjOXXACLLR2dncL5wVhVTSp8PgceWKM+mmoEGyTaaYpMVfOrmE4okTRFI5oZNSCVqI0CsjLAfzxhfo+s62njevn17fn6+Wq1AqlzCJjx7iEME4ACRCsWIY1lFX3M2WE983ViTElsvyw85+3Ez7szO9wCGEPogo9DGvAjstLOvtGiylhZZ6MbgZukPfC6prj5ytnIXBQvo58nmf6NTvOz0sJzaOsNL5MbQhzisDltAMGRFVeB1zLGbOKzSZk30dhab9Cl4zI2fh2XuFrHjlRWF4bB10RIyi0LuKmYApJRIHRAyQ8U2qmuyDQeDDCqQbeJcKnntdVxuTRVoK1qXhod+XdTeZBsIKd0LzQarr5oE10IPGpHEqZWPQjYo0cVYii6aL4ZhOD8/f3h44DcEp09PTw74gr+VmK329u1bsmUwwRAZRRJLYny0pfr43U/DplZVBQ1yzqenp/v9/vHx8ePHj4S6i8Xiw4cPz8/PDDRt23a9Xv/888+sjX0kjENnEKVBY7ERSoLwPEdYjfiWmK2i0AJ92EUZL6+AHmoivUKOFNZHRfdRPykdo6hDWjdHNjHnPDo/LI0dkjwODgbrISRx10cnkjwcKbrKkp/i0Kqq8P4Bb7gJfN3EwD/dXzBxMte2iknz7ALlU13XITrkTZqmYUnv37//8OHDhw8f3r9/T3SI9pYW1SOQkslmVXZYjtSd55TdlFCTCVHlVQpuJfiTVGSL6rBt8zhOjE/6nqfxNVWJWoH7lCV61GEZ7BavtF6v1WRQR6XRIea7ikHk7xI2En4ytQWQexiDWxCsrmuq6qWXxDcgCwCDAE6bzUbuD5UKDw8PlLbTYEmM38YcBswefmYTlUwCfVCki5hwW6LOhYCkWLq1ipKNZMGcVPc+BlDkKPaWjagCsYRRWDkYjdujCWm+HUflIuWuh9YngpFBZ6M5EQARyTkTw5fxSRL4DiqKGoaBQxT4ZRflsbL8JYaMNU2zXq9Vvs8N+STFLa+vrxCJAJb5lTJvu93uy5cvLOnt27dV9B3LgCu2zdZaKDhRtk0YpogqODFZy4JLhjgeBAs2xdQJjfOARJwxi8EtopmM91eM0KklteOewsSeAXbotaksryzLXCJfVeyqLBVCiI3xwPYIC29jAkxl09/qmBuNEuaGPAuUgRCij5772sqeCQcx8rCIyr+kPAbrgErjlJtmd/NXLvF+H9PM2QfxqBu5JgoLXl5e+LkZT2rpoz3g8vJyH/OltCR56WKLb9PcpM1dvPQC+g3QbR+dWKijUgq6KwXYIwhxsGpGhU26M54SfRkiAHofdICj+uq6Ro67GPLUxLCsPpLdEhqhRDyrifQ3kufbWsc8GDmlUuMCpbqouYAM1NsUK0xiZ+BaHop1kEQ2kQ3n6U3UtorYfPH8/FyjxVNUXUxc/MqLcGoboTvRjfwsNY3SmEW3SB2D5HNkYTz2hE8Bb0opyv0DgwKJ5pxxBw4xRynH7Jarqyt9t6oqytAVPElQpMRw5wSXyD8itGqaBs1ZSgEHIVARepAD54TJlGzUFsuTdNcs5yyzjaJrogySwOD8/JzdAHCRhHyzTHG4jLIcHp7nOCx1GIZmYrTc/5nQTDzrOh0al1LA6ZH0zoYHDDEMD4ZVhA/CTRJyuVx+/PhR5WCzOMztJKbxtVH+DYZLaCG+c/aiOUP6hIKtpmmoGiISeH5+1kYQYCgGEtLBU+hJ4R1J5+do8ZekyrmQpdG7s+aqqlgVrlkTKYtZVLlXAdViICoreO1igl4bFV3fnJwcrRwTyiXDxJyJcnSSyepkO9mjMiQw57zZbO7v76+uroZhQAc6OHlzc/P27VsGX5dA4gGWcs64OX3f05nCqBKJlCrXh4DSdYcujvBNKe3juAzlAdSXP7fjWkpENQrFZOrEFngxjQ2Nlrh3UYWANuu67iSO0AIcKZFpQvLqSF9gL9Q3RpAq8EFAXSnl2/HS7mj8weW+UDKnKJmFhJy95Q5SdOrBE7gbaB6SZ5iHfZxFIYYgiiBx4x3E2sdiKSUFAAgBBMPvkD6vorMIaSY+QU01UdgEH4hZ2RneDo2turli5+bK2KjhY4jGi1l0ovZRAlNFaYXArSpKHGZxzedzuax9gPKN1Jpk87vXZI8mP+vx2bKIxULFFNkZanioYIGJIBhFENCsWIuRWxc3HskilTpGoVQ2TxSUls/jhqCZ+8hRSSyqSP2I7aRmJ2+HVtful8DED9ZWqk/yX4KT3obfSmL4QTayHGUMWmsuaf2EPl3/o3gNNqDGJayy0qJi3QlSXGwQcwtFs0VM4sTdqOvascoSdQMYADa6j54+vXmJk3WcqNxKXlnbtl5MoDKQwYBBvYL2YYiarS7ysSp8R3yHKO2mZKqKWqsh8DPZOYmR9mpicQarD6usAkwJKZnG0eFsaRx1TS4JzRCpVfdH0jg478dtJnUUM6Hf5nFMl1ppsc9ANTkGMtE4rFIyHM4uiqXLUb2Rs3mOMR8UmtH8k8IP6uyEdrXQD4Yv492kwGRLTAUoVsFej6d7OME8aCsBTDfWcZosXnK/V5HyxEiJ9t/mSP1Jgom0ev/j/5ZxtK9t6mO+MJt+enqq7jF8brxemBenH4xuFg2sUvrJ6sOLpYtkV1A73BbUrose1iFK/+W2JfMUeBEkHpmW/VfYXkXBjLwwuZdyXlydiqVm0dAmrVaNw1Y5AZWFxf6CzcQw/AG1Jr+R6Cgekm0okQab4B342dvtlpQrRSltVHZOdLdY2FlksOGYghyTxTTatUNMNqOUASVWIk+hTNU8xuBwlJ6i8iGKnwRnH6I7vY98qfhb+qaz+Sgpum/qGB7A/pRAN8R2ipS0sZUBPRNnsNH//4wNc+mRAGWr6+YqAaUIj5D7wISEw+FA08NyuSRkxlGuqopWotfXV5WHaHkyXRBD+YiJ1eHl5RM7b0E/3BCkrY3RfYPBd12khqvoBpO35t6ZXkr7045b/IDhqeDP1nrTWQ09Sz3E6CW95jHBvtow9zj+gGY5UIym+YZmyURn6zBMATFI5lz46rp+fHycxRQduivoDODNVbw+i7k32DwUowJwVWhJ5obo4xuiEA+AWMWdUkQnJydkyADIVRfVxBEzOZAI0vloTvlTybR9F8VeCHGxsxhoaby8vEwpUSCM8m+i2bJE9FIsPymLUAybhdhfdcafEaw/I3NS7tkc4uNLARDTU2BAjISExtG25+dn9XvLOCfjdPd3SszlhAxAUHyMsKGOokGecnFx8fj4iCtUApeSZAwxSIih2UNkeiGJoOpihRRVHBQ4RCUW+05mg/FJCt6rKNWSN5tSOomz+Vy8XMeMajqKxfN/QCF3NAbLegwWJv8ewYYYqEVMxphdQU1kkEukAkopnMZZxbD8SeXBxPr6GvZxqCZcwhl8BFtIs0bxUVTJHg3DAPfIhQOergKoZakapK7opbZCncpK51JKbdvSFCJZaaIHiVPdRD9evD86KNav/4WX6DTjh2zjdboY9fA/EoxNeX5+3u12HEXH/JWu61Bifd9TKyfqFjuDTnw9MajulA7WukJF0Hw+f/v27du3b9n9PgZWN3HQgI5lkSTJW5MdHSw1NYuOkN6OYRVWgl5V6gsFLjdH+rOJYmHfNyXc5eu77zZtSv9fXYMVjRSr8vkfv4UWosQcG0PILIVGbKtyXZoJHFJKcQKZe8+V4T0lpg7gl0ov/fDDDzxLlUJsDa4QFk4HCMoFT2GwBX2BGoNzIqDEJK2d34pBdQaqbP5DFeeF6uyVHG2ih5jppY39RrA8TpX+mcs/Wcbnv/lSvntlC8joMmYoolLPbUxbrSLXw+qxJe6+uw8tlTJYDRZ34IY8nZNyQCUQdDp64QlGpKSoYmvsyBgp4drO2IQb0G+DDcMZosKwRBmPeGsWJ7FWVQWBd3Ymp5uryvDCHBXgg9Irf55mk0/mmKw1ROVQjuTNd7+uB/d9v91u7+/vU0pkWJIN32b7Ukq8Tx8HbMpBdwb0ZSuAk77icRR03N3d8aAmBlYoVZQCA2QZdE7qzL5sZSl6Vh8TSeCqbAW8yr9o2UOMQua2uDx1DHepovdA/rYel23MwEjC/v8ut/xSIP5Wx/TWs+nZguPwnvEeu0io72NceA5EoIyBKCdYCQxzZse4lKiK4XFPT09gVCdxqAo5p7kdz0fhIu7APIYfsaGezSqRNRXS2EdGZrAQ2MGqFE1v8zi5NUeHsSIZL+SqrIXnm0rUbydvrkdy+SKS+SaKHOsYfig5GKy2PkcxZV3XDhCTJGzbVtkvvDgy7mxciix2FyPIchxwIGHV+s/OznxoWBOjmkspmj7x+vrK8Q9AlGwNarnEKX5DZNfYa+JFnWcmNUsHbd/3y+WScjHJfRNj2tiQPmqTUyA45BMYE6QGwCF6c1kns/2k6r+qxP+LkLmTKeK5DRObZ8taJbNDYD/ESW5yu65bxPC1IeBU/AjZJJkuXTLsQ6TYa6sdw+o8PDywR0L0h0hziK+HiL6V8kiRx9KeDlaKs4/pPSUyvcRYsmc4h7wXOA7NEM/Pz7UVZyDrtaVvsOuDzg/7k+HXHxAsB5IGs8tUiikmnkgdNc/CgkEX4XocAZkuFaXkqNdIR+UL7m60MWy2jWJegq0Uhi3nTFTkDe18UdSFRVSloo4YlfcgVSwSudnH6ahINmEWZulgQ/pTjEcHlS6lXF9fn5+fv3//fj6f0zrmXkZvfR7fvESJAu8/IckfC5+8GrFDsk5A17HaWf1piLnvu93u4eFB4STJaGE5Q8TC8zi2Po/7oJJV1SVT4+LFKpon2HoNaJNX1scUwDoSUWS6yafQuyBIbB4zqyhxoDq9ikFy2TA87s+LqKYfTxVUkxKji4sLOFVlbroUDgpp/EYwJ9WEin9S2hAI136T72bLEIoPhgBzl8sldoWKYLKdUi96BFUSTpguSm6STZVOVknIz8ysaJpms9lwXjy8BXO0VoAtyIP7+AwcAgDIwxFGgNfYZulMMQHhplrBJF7cTSc7oqtJiCtwlmkQuJNVl1h+H5r6M+YtR2iJdVHU6XebuODyFUVmWIzOAyJZanVg+dZmEkjpD1YnM1gipsT4s8pmQWQ73DGNp1ilgBjEzp2N9+XsuC4qi7o4xVanTZ2cnHD2g++G9h06QUi1x/l4pt7mCEEe2EL1LJ1Vof1fbZhrIRFMvC8dKLdQ/y1WvsJfYcZsUzyqqiKYRR/iRiJewuk9GpODIzPArbD/2g6pxBxDz5I5QSlSoyWOwOm6zidRCUjE7Al/Qhk00bjeRecuUn6IsxjkQ/GUWTQ+dTGDQdc+hkz2kT+rdJTH//ESDWQhRbM0LiDIR16lXKDFYkHBMzgbcYIynHgHp6eniN3MjoVSuC00obYUl1x27ZGMU0qJNngRuIvK4j7GwM5isIocK410lyJFMShcw5c5xAmwyBkFrFhTonhc4lLKfD7XVFT8jn0cYSf+0z5/A7vEnul7arD6HbQpR7uAbl1KQV+3cWCfVubeI1/vo+AL6IHJF7j4i8Xi+fmZ10Md8VazaG6XTtPK6/HMDolX0zRXV1eCP4SE9ZETAVtR2Tk3d94SwlvH8daM7kOehshTUzkJCeWv9lH0r9NIsG1PT09N0/ztb3/78OFDF4eE0asAS3WWhm7i7LHRVO1k+a3J9XuWzC2Ta0I5pqK3K0MXMolFF1OBSjRGaMv6GHq6WCwwdXU0LvTjAgoi0CZKXWcxHl0DwZIdXNVZeyQKWVG/lLxzQxV1j8ojN9FnrQBu4oivVisaBuQuqbMPtoYLGfaBeyKa7eMonWR4xbcxTr71f/5yS5vHNalDJN2dYIMl1IsV2wJElVIws/ApNgDF2Mc4Ky5Zbz1oAsHpueCtdV1rEKCIhzueUlL8/s0ZszNMdKXw/XobLd7YgKghjtzqI42A1SylgJXAQFV02apCWXaL9i0ixUndANeUYMPRiVm/pyQnH3Bq5cgYiTCuXpxgeiLpKDZUXZq6TxMjhFwT5vGJDkI0JraNSxV2VQzF1/wArbAet10ji/KM+CRoxS4ORUXC9BYoMaXiUpgMbKGqrPq+57BlufhyKYWYSB9qV6cS5uKvh/1JOcsWeH1lhAgbFf0lK0M7FmhANjEUKcc6SkjgRIoMmako9FYWokQ/VraDN3OUOGLMu647iZOB8eV2OluyaTjyCfOjX4pFkunwflwynFJSamawVlJ+rutaHSs5TlvknBrug84k266ckZNAfsd3nI40hjwmnt4fECyPAy9WuVgs0MWDlet8ly1kYHIU4rdx0C6ZiJzz2dnZzc3N9fW1Rm9VcZiNmLSOqg1lklA4Mgl1HG7NrgllTymxYKnT7xY5aUaUJFhKVUq4jmMX5EbyOJwdTouGzxyPxogq0axd1W3Z2G9Oh/ZRmy5x+R9ly0lVopdG0J/7kBNnxEVTW6O3JUAhlEb7U7ejr1RWbQmyV8JlLXaQ6IR+pDDUfURyoJTCjBpwDYUNg7X6pJh9jFLF++2iwWSIs9NOT0+LlbRW1pgkaErpCGwVUZcQ1BSacLBZOl8JNlFNLlgTyv0ewY4/X6L5DhBWRzVVltOa0LuyYQv+LF6siVksmLqc8+XlpbL1i5hh72mwFIlEJaKKRX6oMmCwIQCXqqrOzs7YdIYc4LAd7DS2FMqzjjLsPioShkjhqmiHiBuDdzgcqL4iztHOEJJjX/dxfLr4+FiKmmSlEP5nlxv9Jo1nfriGVTZWnjrcihpJ4YnBvIRcpRSN8BjibBcxEELWNA1FOMwCpgykqipOBKCAR8FNjhpWBXwCLKibICoodnY8aV9cCWhAMRONaLs4qDqFMoceGio+RNEcEWRtw6KGyMNBeKzX+fk5qvvk5ETbstlsmAtYVdVqtUrjcwNTYLD88J2TIdI4uuKqDJV38XLTJWLXNi+EcVitFcEX69jVf78rvin8Rm47xAC4Ks7m0+ydIfIX19fX4keJVG8lHnM7yXsYBqW7ihWpVYE/7W3CNAyEv8NLEXJAlS9fvuAvQDNcPqQHf13a0jVWsWuw8XYTKrh4jObWf5d42eYt+V9z5BEmf5KBYY+A3gdrUZFe1k79McGGSBi6c6z6KoF1CE2KwzNVnAToVyLaq6KhD+Oh43C6aIqBQnjYXcwJl6KWh8mAHVQojg+eXgrfMtsEViDWuq6Rzuvraxls99pLHFguVlMsW0fVxSjjPDFIx0SaEFwekT6Zo4aE8KKUomxIF3NmJA3yy90NOWYahEzFDlwginpcHaegv76+Xlxc3N7ekmqSjWENIol4fx9DyUtUr3bR/s321dFj39i4hmTWF8mg/kmbM4tJe5K5rusoobi8vHz37h1hDKUrSsI50lZZBjhZt8e0Kf344gND9FXKL9DlYV0VgOkijqMCkrm5uWmt8VvfktX8PQnj6scNMgrv0rgYRjRgwbgGybIELLKPGR/CcLOdACS5lKcDZIUuBafArApu72OmQonMdYqhFuC/OeddHAGKuM/sSGTesY6uKmlLBRguLdNZU/7nyZYd/74aN1mkKMWR7hqGgYaD5XL5/v37qqrW67UUZomCvT+m1rFClwUWSw1RVyusYbVaERqru4JctsqnlUmRioYeyutXUaEmFJtO38Ph8Pz8vFqtCJYpXh6Ggfof3IcuDvjx0IJwcLVa3d/fz2YzAnkuReKVAfPJ7JRcwqkNG8bop+9aNs9CpkvZJnnP2iP0O774xcXF+/fvl8vlL7/8IjR6H+fT1HYW7uTqxlXZyeJFJ+RgZ82rLhg0XUleMv2glMJfOut+RN0tl0sAeLyGKk6WE2SMF44/cnFxoUkiGLa+78l2ystXtQi2c7Va/fbbb2Qh9jHPTjpAtuqYYPww8hJlP/+AYP5hmbFZnAJbx2z7nDMVavs41+j6+vri4mK73fL+mvxQom7+uwT7rmQny64VQ2dKHBum6poUcK10Ea6QOLpEyrtEJzJilFJar9clDl6RA4nxa+MgA6WGS4xnwo7K4g6RY0vhndPtgWrtbWBvMghqIkX+1l8tXrZmzT4avxVaTRy5bNAW4ZGkStJ2dnYGAAM/fvz48ezs7B//+EdVVf/85z8p4SvWG6rb6lmIjvS4hEwvX8ZpqhwOHluAPKWUcN7I3eQYipSiND+FV1nXNSGRiixQephhdCmhLiYNYW3blpKvPor+hSpJSwtLFEwMZpgtlYhZ0evo7Rz154ajuWbHYL6Tt7Z2JZVxyX2QboRyl5eXDLher9cPDw/Eg6oqBOj0vvxqPNDbLVYyvafP+FLro0axYRhmsxnhLVnBp6enKkA/cW4VcIxwdLAJ7BazevTiyc5F8/flr/h4fVRNafcQsjoqHvpogiYAcFXxXa0m/1m+9LesjwimfREXFIuInUJNHP80jwvb3jQNJVCg44fD4Zdffnl6ejocDu/fv398fPRD8SobhpCOLodXjgkpOCaHB0s9D+JS17U7iuJWp8Ek/Yi3AiIF5bwXVJaJmE+VhxMzXMyX9hfRZiqQ0CsUc2KTNWtLnQrPbFy8hqMRvWJtFT6kMCci2MwOYBJQq43gA7hPOWcOTkfVHKJvvIoj1NLYG0xmulwE09h11Mr1/lLFwlzoDhri3G55SY6k5Ji9U0rh6M6qqpTKYQGYxkUczJ4jfVOiqVnunPwgR99LnBdOlkBGt4qCYr2d52i0zoJbLxmqI++OSvWtkZ3QJ6X6G+snRLAQsiraN/j9/f39/f29LHltxxA5AZKZK1cXWoAIM4xLYqUGmhiwCyAk26bsvnCQUgrlacVwKTh4Pp/DT1I8yiwrdCnhsFR2XFmyDEuKCTbSE67Aio1qRLgVhAnc6SP1881L1PfrGEdex1F0LmoSBT6MMOGMoR+gCic0UVhYVRX4aUqJDBbmRPFpHhfwTMimH9zHEdkam8rVW8ZP6BeMXAXSr+gYJB4Qy2NBMTtajmHuhM+z2YysKe5uY11AWlW2PJEW6bp9sISfbIrU+GCDTkWwzg4x+saOcrqwvZzbMx8POOMDDgTM53Nog4p3+uHioyU2m83nz58fHh5UJVmiXrNEtWFvc9CcTtKEaXyVKAl1da9waogmhoMd9e13E2iUwzEGH1FEqDmKl5eXys+R2PyqlKJmJOfMCE6G7Wh/xUAAZpVBmu7ZVdFv6NpviHyyGFFMkFQiIClumubHH38UJisAtJQiGZrFCaGqrK4Cxp3FiQh931PStdls7u7u6BZhNTIw8ndLDNX9LsHcd5LqG6KZpYlZeghTawdXosQwOX3M5uJbsxgFNkT+JQcYP49Twa6urgThC/oqMcCvigby5XJ5dXV1eXlJMTZZfyk3uLyOBPTEzumlxG1i3GI+vTtWKaWvZXUEtre3t3SDU/gn25hz5nQcOhKrQHFO4ijnbIe54rUDEzw9PZHPVYDcW9GW2G2i5atxeUhl/T9VYJVdTHZVl0MTYwaGmNmlcvYch/GkMH7AVKjrUgp5UWH28/kct7uK8iackbOzM0I6Uev6+no2mzGHQLFKsnxpZ2PB3FMtdqAT/pfUsqMe2oRGw7RyxPa3t7dv375FaGA02IHvoyjUrY2wE2DKBHrYW9mUpt7Qwvw93z2NT6Rwag3jvliJI6WJBAZwMZSjP055EzDyFJXuOWfwKvKfPAIKwZeSWmQxj4ciSu/1kVmFVDxOznptNR2bzQYPpY8zBKE329LGJX3oGsL3Qb9vmPl0c3Pz4cOH29vbWcxYbGIEJjfKMftTypR10Nahu/P4FAViKkN3LffdywnpBnyw6iARrERYdoiZXXASieNkhad93yOROhYB7acSAdqN53E8Xc6ZyhH5XPLCD3F4nap9eEd0CXdWSFeivgpCSnWnKNxHdalLxf0mVznZ0rzcs3n//v319fXNzc3NzQ2Hn0u/Nc23KI2U0jymQEpxaWclIh66opcU/5ffz6QMVpaTzIwRtA6R+kqmSEv0lvEy0OwkDqhCN9Z1DebCiY9tFNbj+OlMaqJ77MfMJuThwlH1Luf+EH2xlDqtVqunp6chhseheOTop3A3UlRrq46jj2l0E2rlMVaSLBLv+775+9//zqhxcu2gXtW4RgOuEYSTwqusx208PACYlQtqiSR/QDCJ6eQzcLEWIO8AZTjEyfJSyHXM+ABoJ7Nze3vLejabDfIBDdSnNYuOGFkObAmpBiZxZEu6NjERgkCFzoYqevpkOMW4/N7rRHu73HLX44RwCbxUL9v85S9/IWhPkfSTW5Is21IMO5Hsa01NNDdKmCg59orENHb/Jpc+4z/knFVtn22ahNvkFEir/GCcpja6g3K0vdbWVdZZsaKCS+kVqNjFHH3UKVAO7pgiH0kka1YcXaLITri+O4dQWgt2311vlMagj3RsQzpHSraOq9i0ASfhhP7itcpSFbTA0ktaItudjuAlv6QSJw8abCpea33jdbQm6JMljhccosJnFo0zjEkiPzCLYVxA78/Pz9INBJFg6qg7eizxUIBIAJThAAgPGjdEqU8XpzZBMGaAJwut2AFXia5UXDBEpxHB8DJgrpSS+gMUNMiP8p3KFspJBLtoKaDbFU0tXecEOL6E0AwG8uaYQ6/FlIiE0hhE147MogBUGqzruufnZzWkzuI0YzTe09OTEPdiFSgEVfQldDFgDrgAlGQ2mx0Oh/V6XUeWMhtwoyCEhLusb2szEiR5ZTwFL1tWrBxdTYnT2IfIgeE0w8sE6pWBY8XyVbIrbcytYMWcbbperw9xXgLcrURlGYNP2u7KxuYKq4RXYAX59BAmW/tsFYfTQEv0/MvLy+PjI61mbQxfI3m43W7JJaLr+CVGl1cA/02R5sc6dl1HDSuHIcubUNoF+eP3WoziWjUXsSElhj05tVy3cTmvN+6NiGCuoJyRO6s+kAWGW9sYUaGIux3XIpaj6WFl7MW6mySFDs38i86AblYnbpWYAN53N4zFoMGQPPIJLBX9pjAuRzUHbFfXNW5winwFO+BpNkVUWs8QYO7BDrZORwZbG+Wy5T8PDLjUlys7AleyyYL66HpD+MT+OebE4uyiZ7AZrZWkOxlEQt/caoy+Y0Q7GyIppku/kzzTzf09++hW1l8VXUEPDSoACmnbltgG+YOWOOs5Kp+qOM/EGaW3s577KN72ZexjyqKT9phgvZVE+O59U4nH8ujv7+4GBMPI1ZFmLVEZMcRAH2w1BkPSk0KFDlaIMRG1IRp16ih4hvZNFKA5Qi9enpBKTpc0ebb6bSeYkNIhSne4A51OalCQMA3RA0icXkUnhAqwZMMcsMjRWSOntI/REBN6THZmskVVDM38ViIgyzQhFffyAEL4qboQeKs2qvtxsdqo0JNCK9+Lw1wPyNMtkSrDDavrmiL4nPNrHDMuMk94To6uQuB8NF5cqmyxWHRR3NF1HWMMFjGfT+gRu9zFsTptnPegjlDtFYuZxSllfWQSfIBDNW70FoX0FunoqqNboNF9i8GAjbVGwUEY2GEYKG5RoC2fOKW02+3u7+8fHh6oVBHric3F4FICvjhc4ZQS1rGPIQwpGkZAPdo4ulWKIlkjpWL52iokSykIUxOTO6qozm9trgK6DmO2iJMeUrS9KhZG03Bbb+eSrM9idtI+JtvgOR9ilLdAkMlVxiXxzt8yJd8INtE2JbplUOWcxg7weH19jU81xLB22PD5+fm333777bffmNrqIZTUpkuYL24e0wL7OAoCHaXQSixZBQozGC7sGl/GUgBusePWFTX2lpdKMYnKIxm5fDkqdqo4wMwVEh8QKg9DN00jbxDrBQdP1nlMMP9vNU4gc//GVf8kOGUIzNPTE0Upy+WSHNjFxQVQAuoeaoH33N3dUQeQxqZr4g7IxmrdAg4QYtDYUgq1OhiAEqWDjTULT97ZHSg9YogRNLomMqFwwhl3bmeki4Sz2Wwfc6pcx9LOBEUZA76LOb8HOz5NWmHy+u46HEtejvD0qw1TEggGGaLrGyAAhKmqKsRrFmdapxiuAZ52f39PcllLlwEbrF2lj9JJd2dSHKIAvkVg1Pc9/DHEfHqVMpZSZjHZTqBiisoI7Iei1DoqqEqMMdjbjHyH0nvrviUhIuqyTqL4FP5RikETkjlKEEi2pZSAjEWtysJ8ke27Fsv9Ef2GRzfZICx3UfTC8AV7BxBQGYrIO+/3+/v7+y9fvnBSZTI3NI1V32QR+rmPdJQ0T13XqgTRjuSjNkvxKRdKwjmmttIdAB1Ml2z2YPMJpHWLhUryvLARirFKxG05oAO9JlH2crn8/PmzkpPVUY+d+MwvJ+pku4ZhaBQXH++gypvrumYsr3q2ZY1Q+tRufP78mapY7cJErvMYdElmA1TyNsQoUM/mrNdrOUR5PJ0ljdVIjrqzHCFwDoyq2Al9souNnXOTzOESuiGXsgSap6/3MTUKh4igGEwLg7Lf74Eiu3Ehul5Bb+Hqulik5B/7RrAmzpEQT7lKFbPLueqtyg78ZrVaPT4+UoGcxucRHu+pCCZqFfNo5fgKbeqj8C+lJKgwjfWG7g/Juxi41ratD4iQFZSXT1OCVoJXKcC+seatKtI3krbOKn8kMX2MedxsNp8+fSIkHWJeix4kBZCsoEaQpnsVQ2TCeOVvgbN8Ib35fD5fLpdDwHrzGMyp/erjDDe8eQhWWXWGM9QxtbTLOUZS6bsY6rquCez42Z+rDXJJLVaxVFWVNARQHmLURb+edmqw88BU39db0bVsT4kRS62N4djHOdQoBgpANpvNw8PD/f094iV9qBfPBvrUkeIXwdK4HNv3vHFX3o0NOdkmii/nMYu2GoNVfd+v1+svX748PDxQ28zHjv23Y8ko4YBlw/qqGC/G7jN7qY1DUfWenZWR+20PdogzviVYLY6GQq4U2rWPUrLayqHk3Fd2ulYOIKMdF+R2dkhtHScePz09PT4+cpytNJ6oLg6WgypgVttV2dh3yVkppcFUugItkYRtYoKBYsYUpa/oaAqwceXxJOUaTDTVRAHqZ/+Y//IQp/KCdeHLDQbneLwoaXPFi2qq65owX8SWE8HlBJvZTEWhTbM4c4Pb7mIQcIpGJjncUOJwONCyRzjkyYTJ+qvxufSiTR67UVxSxQ0+VR2Zab1JFfXuEEwSKnbuYlbv/f09kwAp+HWPyKmlnfWftTIGRLCSNuYHKcJT6qgeH6xxrGybaAgvMW6CagAg3ToKx/px20cdrSgl6qL0pwmZ93byVB+VCsQ8oKxtjC8nT93EQTjVeKjFYIjaMVsfX1KVXwdYIJJOUgkTrJqiEo1V1nWNC7RarfA7+jjhp0TJtBhHklds4INIJR3bxgHsbO7d3d3T05MK0NQawyMI1Ny7Ew3QyRiwKopZm6hdVNibUsKZVCwx2OT0PsaD54ByXDsNATOKyUi/rdfrz58/E96AZs3iTB0Ff2yOe6FuEVwTOLtoY78eGTSLKb2zmH9czIC7lGRD7jGtqgFKpqOd6pKk8j3XYzg6AtU9gmJogqTWXVBXg5It/RXArMS4FOGfMk7svkqm3CuTRhkM/i8RfecoPWLHAb7ppEK29Moe4bmKmyhD7Ukau2y+e5mZv76/JRyBEmXDeeyDpjiQ5+7u7uPHjx8/fgQ5lEkoRwjm5KlOMKnsNoq3BwP4gVCLDbfRng5HcZ5MkVQ6VAHTG4aBARlEk1XE0fLBJnlFSYascm21EdgLRv2w+Kenp9VqdXd39/j4qDbAHE6Nu1SCuNL3EnvHBBNd+GFkyfWHykCUCV8Pw9C27ePj46+//vrzzz/juTpEO3wPh9bl9kA0K6UcDocmJiJnK6TxtIjYyNODEqnBzhSSZSrRHvLp0yfKPa+urnRaH0tq4tQH7U4fE73Eyk2cjYIXRgBAyoJhsPv9frPZECYXq9FwgkHp2ipoJnTSnn/XQn9VibStVRFga7bORCCU72Blnz9//vjx45cvX4gzdHdnkDIuWBAfVNZUKdaTkcgWoCQ70l3aUnZLvxfV3VJqGewdEAzEA8imj02aTcyqLGUVDbVUmhKJ+jBmpuB//vy57/vn5+fn52dydZXN7prIgzivHvdu57HDnMYOiOxRwulQeO/7iBYqEcTVUWa02Wzu7+8/ffqE9RosOXksv8msqBvSHNCOvshDu6i9bWzoiL7uSxdCmK1qhe2eWOnaCkMhGwEDh98w1pWuHIUrOuuDhh2fyXeIM+ubpgFVKKVwngsTOlLE75PAw42OXxIgbUv6nmKUi9BQgURonAOzSVGQo2dLth4eHj59+vTp06fVaoWXJY0k4dAdpATcHZqsjKsaN1LIa60sg+X09nuWMLe+eLkMJTr1ujiZDASdpGIXrdCoOJIDVOAwd0P6k+dStgZ7EXJ41KWoHKUtFzeb/zXY2SNOKtcuaTxyNBkc3GhUfBOnTZco6kvmLipMBjZ8enoiI1dHOTdSKG2gxzt+SpgioyhnWuuW2YBg1dFVAstxiHYwuLmEh5KsCj9bzh49oYGSfvgEZ6DUUTfAWGWMlpK0qrkD7wBHJamkhMtg53NR4z2RsInTJLvunznWil9tE7VXYpycs2IdjFMbA073+z3cdHd3R81hCVhPeySzIaPqoEuJcylVOlBFBZJqxfkYdKUHkihwEcOMk3lGlSV6iNK6OCmgGJ6kWG0ieXgE//Vf//Xbb7/94x//oDuPIPrt27dsK3hbFWAjCUxuuN1uf/31119++YVC1WRj2WF3NJB4V/RIFplI6wyRl59QN4cXjaA3LEgP0yt5hLGLozlXqxUNWIMlciQfE3XsbFLMiehinkUTrRUleqokZL5BBzutcKL3k/kyXMIgBrtc/iZf16Tkf/3rX+T13759ixosRyhtigEngJwENvf39+xh+Z7v4BrPf+++tH9YNNMleeXnRgOZkAnFH7IQwHqQ6v7+/vHxUQP5PYyYrMn1QGVhb2fnkOOD9XEUVArNrvRVSkn97RM7LGdMNMtm0rNlkLO5kenIOUKv7Ha73377DQf9P/7jP3788UdsmxKeuj8QwcvLy93d3c8///zPf/4TXGNCnsk+HBPGl3H8mcki3cY3hziZHe0Mx3VxmFZKCY0v64WE6RYuws5K4kpxg2JVBZ74XUNUDaewOtKis9kMXLEyqJsX6yNDPWHq4/V8l+X1L65WG31j6PndbkdvI2327rKCRD8/P3/+/PmXX365u7ujhOK7IpXNiTgW7gl1c7gkxZBGvbjergHSVooPIVDJCqunDY2LGMWV7PEqXacJxJNKVPJXn2zivGMufqOmBDXz+IU/1o+Hazk9qjH6nI+SvFzq4UQiV6vVv/71r+fn53//938nx6+pKlXM7n59fX18fKTZngkx0hDHm+BS4nKTrCPSPyY4UH/qx6U7TWtnEiQ7+quOAfAsERum5k49Rm661ldZtknuXIqYv41etiFmZLiFKFETl8PCqeBXLzAcwZtOKtfSxc52wZi5M813hYI20SJMBSbiBcEU81WBdT08PDw9PaFs5Iu6TGSLHdORAvQdq8bolIyuPjPENNqvmolIcBanokmEVUNJczygy6REycnjVx6PCe7H3dfasso6KlKUYwiETeNWjInqmPDydwU9hamTT6j3Fy0FUAmEhIfu7u5OTk7o0uRWdaSDX19f1+s1ECWrFUs5JeSjTpbtTnx1hPz66+j3o/BU/miKOZ3s7CzOzQJ0UeGqu1sTTqnGCScXmtZO7crm12kpfZTEegjsW+//uj7xF05jG+Y/yMvKpqOyHfoBRDnEVC3qIUn3ZKvOH6KP9hCnz/N7jUny3aiOylX11xJ440QKxV5OrT6G7tZ1/f8AQECIHx0Ule0AAAAASUVORK5CYII=\" class=\"ndarray_image_preview\" /><pre class=\"ndarray_raw_data\">array([[[34, 34, 34],\n",
              "        [29, 29, 29],\n",
              "        [26, 26, 26],\n",
              "        ...,\n",
              "        [ 0,  0,  0],\n",
              "        [ 5,  5,  5],\n",
              "        [11, 11, 11]],\n",
              "\n",
              "       [[33, 33, 33],\n",
              "        [29, 29, 29],\n",
              "        [26, 26, 26],\n",
              "        ...,\n",
              "        [ 0,  0,  0],\n",
              "        [ 3,  3,  3],\n",
              "        [ 4,  4,  4]],\n",
              "\n",
              "       [[32, 32, 32],\n",
              "        [28, 28, 28],\n",
              "        [26, 26, 26],\n",
              "        ...,\n",
              "        [ 0,  0,  0],\n",
              "        [ 2,  2,  2],\n",
              "        [ 0,  0,  0]],\n",
              "\n",
              "       ...,\n",
              "\n",
              "       [[38, 38, 38],\n",
              "        [49, 49, 49],\n",
              "        [62, 62, 62],\n",
              "        ...,\n",
              "        [29, 29, 29],\n",
              "        [31, 31, 31],\n",
              "        [33, 33, 33]],\n",
              "\n",
              "       [[32, 32, 32],\n",
              "        [42, 42, 42],\n",
              "        [54, 54, 54],\n",
              "        ...,\n",
              "        [29, 29, 29],\n",
              "        [33, 33, 33],\n",
              "        [37, 37, 37]],\n",
              "\n",
              "       [[22, 22, 22],\n",
              "        [32, 32, 32],\n",
              "        [44, 44, 44],\n",
              "        ...,\n",
              "        [29, 29, 29],\n",
              "        [35, 35, 35],\n",
              "        [40, 40, 40]]], dtype=uint8)</pre></div><script>\n",
              "      (() => {\n",
              "      const titles = ['show data', 'hide data'];\n",
              "      let index = 0\n",
              "      document.querySelector('#id-c5ea381d-1a17-4a12-b358-72f673ec8f04 button').onclick = (e) => {\n",
              "        document.querySelector('#id-c5ea381d-1a17-4a12-b358-72f673ec8f04').classList.toggle('show_array');\n",
              "        index = (++index) % 2;\n",
              "        document.querySelector('#id-c5ea381d-1a17-4a12-b358-72f673ec8f04 button').textContent = titles[index];\n",
              "        e.preventDefault();\n",
              "        e.stopPropagation();\n",
              "      }\n",
              "      })();\n",
              "    </script>"
            ]
          },
          "metadata": {},
          "execution_count": 42
        }
      ]
    },
    {
      "cell_type": "markdown",
      "source": [
        "**Data Spilitting**"
      ],
      "metadata": {
        "id": "_K0LPR8zODuT"
      }
    },
    {
      "cell_type": "code",
      "source": [],
      "metadata": {
        "id": "CcpBFbaCOHKj"
      },
      "execution_count": 11,
      "outputs": []
    },
    {
      "cell_type": "markdown",
      "source": [
        "**Model Building**"
      ],
      "metadata": {
        "id": "rkT9fMBCOH_v"
      }
    },
    {
      "cell_type": "code",
      "source": [],
      "metadata": {
        "id": "DDcB6JrlOKee"
      },
      "execution_count": 11,
      "outputs": []
    },
    {
      "cell_type": "markdown",
      "source": [
        "**Unfreezing and fine tuning**"
      ],
      "metadata": {
        "id": "QgT-WEtxOLOD"
      }
    },
    {
      "cell_type": "code",
      "source": [],
      "metadata": {
        "id": "5FSn7i5sORLm"
      },
      "execution_count": null,
      "outputs": []
    },
    {
      "cell_type": "markdown",
      "source": [],
      "metadata": {
        "id": "rMmvhiBhORsu"
      }
    }
  ]
}